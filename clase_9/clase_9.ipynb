{
  "nbformat": 4,
  "nbformat_minor": 0,
  "metadata": {
    "colab": {
      "provenance": [],
      "gpuType": "T4",
      "authorship_tag": "ABX9TyMw16XsApwrmxo7ki+Zh5u3",
      "include_colab_link": true
    },
    "kernelspec": {
      "name": "python3",
      "display_name": "Python 3"
    },
    "language_info": {
      "name": "python"
    },
    "accelerator": "GPU"
  },
  "cells": [
    {
      "cell_type": "markdown",
      "metadata": {
        "id": "view-in-github",
        "colab_type": "text"
      },
      "source": [
        "<a href=\"https://colab.research.google.com/github/Andru-1987/74235-_DataScience_I/blob/main/clase_9/clase_9.ipynb\" target=\"_parent\"><img src=\"https://colab.research.google.com/assets/colab-badge.svg\" alt=\"Open In Colab\"/></a>"
      ]
    },
    {
      "cell_type": "markdown",
      "source": [
        "## Asistentes de voces\n",
        "* `pyttsx3`: is suitable for offline applications or when you need quick, local speech synthesis.\n",
        "* `gTTS`: is ideal when you need high-quality, natural-sounding voices and have an internet connection."
      ],
      "metadata": {
        "id": "gRGpl2fwMBYt"
      }
    },
    {
      "cell_type": "code",
      "source": [
        "!pip install pyttsx3 gTTS beautifulsoup4 requests pillow pytesseract playsound"
      ],
      "metadata": {
        "colab": {
          "base_uri": "https://localhost:8080/"
        },
        "id": "Eq2k8vGVOccI",
        "outputId": "152e066c-3f9d-4dfd-ed4d-759fd501ec0b"
      },
      "execution_count": 14,
      "outputs": [
        {
          "output_type": "stream",
          "name": "stdout",
          "text": [
            "Requirement already satisfied: pyttsx3 in /usr/local/lib/python3.11/dist-packages (2.98)\n",
            "Requirement already satisfied: gTTS in /usr/local/lib/python3.11/dist-packages (2.5.4)\n",
            "Requirement already satisfied: beautifulsoup4 in /usr/local/lib/python3.11/dist-packages (4.13.4)\n",
            "Requirement already satisfied: requests in /usr/local/lib/python3.11/dist-packages (2.32.3)\n",
            "Requirement already satisfied: pillow in /usr/local/lib/python3.11/dist-packages (11.2.1)\n",
            "Requirement already satisfied: pytesseract in /usr/local/lib/python3.11/dist-packages (0.3.13)\n",
            "Requirement already satisfied: click<8.2,>=7.1 in /usr/local/lib/python3.11/dist-packages (from gTTS) (8.1.8)\n",
            "Requirement already satisfied: soupsieve>1.2 in /usr/local/lib/python3.11/dist-packages (from beautifulsoup4) (2.7)\n",
            "Requirement already satisfied: typing-extensions>=4.0.0 in /usr/local/lib/python3.11/dist-packages (from beautifulsoup4) (4.14.0)\n",
            "Requirement already satisfied: charset-normalizer<4,>=2 in /usr/local/lib/python3.11/dist-packages (from requests) (3.4.2)\n",
            "Requirement already satisfied: idna<4,>=2.5 in /usr/local/lib/python3.11/dist-packages (from requests) (3.10)\n",
            "Requirement already satisfied: urllib3<3,>=1.21.1 in /usr/local/lib/python3.11/dist-packages (from requests) (2.4.0)\n",
            "Requirement already satisfied: certifi>=2017.4.17 in /usr/local/lib/python3.11/dist-packages (from requests) (2025.6.15)\n",
            "Requirement already satisfied: packaging>=21.3 in /usr/local/lib/python3.11/dist-packages (from pytesseract) (24.2)\n"
          ]
        }
      ]
    },
    {
      "cell_type": "code",
      "source": [
        "import pyttsx3\n",
        "import pytesseract\n",
        "import requests\n",
        "from gtts import gTTS\n",
        "from PIL import Image\n",
        "from bs4 import BeautifulSoup\n",
        "import pygame\n",
        "import io\n",
        "import os\n",
        "from abc import ABC, abstractmethod\n",
        "from typing import Optional, Protocol\n",
        "\n",
        "\n",
        "from IPython.display import Audio, display\n"
      ],
      "metadata": {
        "id": "LghedaGkNsHm"
      },
      "execution_count": 15,
      "outputs": []
    },
    {
      "cell_type": "code",
      "source": [
        "# Interfaces/Protocolos para inyección de dependencias\n",
        "class TextToSpeechInterface(Protocol):\n",
        "    \"\"\"Interfaz para servicios de texto a voz\"\"\"\n",
        "    def speak(self, text: str) -> None:\n",
        "        \"\"\"Texto a voz\"\"\"\n",
        "        ...\n",
        "\n",
        "class OCRInterface(Protocol):\n",
        "    \"\"\"Interfaz para servicios de OCR\"\"\"\n",
        "    def extract_text(self, image_path: str) -> str:\n",
        "        \"\"\"Texto a imagen\"\"\"\n",
        "        ...\n",
        "\n",
        "class WebScrapingInterface(Protocol):\n",
        "    \"\"\"Interfaz para servicios de web scraping\"\"\"\n",
        "    def extract_content(self, url: str) -> str:\n",
        "        \"\"\"Toma contenido web\"\"\"\n",
        "        ...\n"
      ],
      "metadata": {
        "id": "XRziYoAkOp4b"
      },
      "execution_count": 16,
      "outputs": []
    },
    {
      "cell_type": "code",
      "source": [
        "import sys\n",
        "import io\n",
        "from gtts import gTTS\n",
        "from IPython.display import Audio, display\n",
        "\n",
        "class PyttxGTTSTextToSpeech:\n",
        "    \"\"\"\n",
        "    Implementación compatible con Google Colab.\n",
        "    Si se detecta que está en Colab, usa gTTS + Audio de IPython.\n",
        "    Si está en entorno local, intenta usar pyttsx3 (si está disponible).\n",
        "    \"\"\"\n",
        "\n",
        "    def __init__(self, rate: int = 150, voice_index: int = 0, language: str = 'es'):\n",
        "        self.language = language\n",
        "        self.in_colab = 'google.colab' in sys.modules\n",
        "\n",
        "        if not self.in_colab:\n",
        "            try:\n",
        "                import pyttsx3\n",
        "                self.engine = pyttsx3.init()\n",
        "                self.engine.setProperty(\"rate\", rate)\n",
        "\n",
        "                voices = self.engine.getProperty('voices')\n",
        "                if voices and len(voices) > voice_index:\n",
        "                    self.engine.setProperty('voice', voices[voice_index].id)\n",
        "            except Exception as e:\n",
        "                print(f\"No se pudo inicializar pyttsx3: {e}\")\n",
        "                self.engine = None\n",
        "\n",
        "    def speak(self, text: str) -> None:\n",
        "        \"\"\"Convierte texto a voz, compatible con Google Colab y entorno local.\"\"\"\n",
        "        try:\n",
        "            if self.in_colab:\n",
        "                # En Google Colab: usar gTTS\n",
        "                tts = gTTS(text=text, lang=self.language)\n",
        "                audio_buffer = io.BytesIO()\n",
        "                tts.write_to_fp(audio_buffer)\n",
        "                audio_buffer.seek(0)\n",
        "                display(Audio(audio_buffer.read(), autoplay=True))\n",
        "            elif hasattr(self, 'engine') and self.engine:\n",
        "                # En entorno local con pyttsx3\n",
        "                self.engine.say(text)\n",
        "                self.engine.runAndWait()\n",
        "            else:\n",
        "                raise RuntimeError(\"No hay motor TTS disponible.\")\n",
        "        except Exception as e:\n",
        "            print(f\"Error en TTS: {e}\")\n",
        "\n",
        "\n",
        "class BeautifulSoupWebScraper:\n",
        "    \"\"\"Implementación de web scraping usando BeautifulSoup\"\"\"\n",
        "\n",
        "    def __init__(self, timeout: int = 10, max_paragraphs: int = 3):\n",
        "        self.timeout = timeout\n",
        "        self.max_paragraphs = max_paragraphs\n",
        "        self.headers = {\n",
        "            'User-Agent': 'Mozilla/5.0 (Windows NT 10.0; Win64; x64) AppleWebKit/537.36'\n",
        "        }\n",
        "\n",
        "    def extract_content(self, url: str) -> str:\n",
        "        \"\"\"Extrae contenido de una página web\"\"\"\n",
        "        try:\n",
        "            response = requests.get(url, headers=self.headers, timeout=self.timeout)\n",
        "            response.raise_for_status()\n",
        "\n",
        "            soup = BeautifulSoup(response.content, 'html.parser')\n",
        "\n",
        "            # Extraer párrafos\n",
        "            paragraphs = soup.find_all('p')\n",
        "            text_content = []\n",
        "\n",
        "            for p in paragraphs[:self.max_paragraphs]:\n",
        "                text = p.get_text(strip=True)\n",
        "                if text:  # Solo agregar párrafos no vacíos\n",
        "                    text_content.append(text)\n",
        "\n",
        "            return ' '.join(text_content)\n",
        "\n",
        "        except requests.RequestException as e:\n",
        "            raise Exception(f\"Error al conectar con la URL: {e}\")\n",
        "        except Exception as e:\n",
        "            raise Exception(f\"Error al procesar el contenido: {e}\")\n",
        "\n"
      ],
      "metadata": {
        "id": "YhavJ37KNWk_"
      },
      "execution_count": 17,
      "outputs": []
    },
    {
      "cell_type": "markdown",
      "source": [
        "### Clase especial para Imagen a Texto"
      ],
      "metadata": {
        "id": "ynH7imh5QNTV"
      }
    },
    {
      "cell_type": "code",
      "source": [
        "! lsb_release -a"
      ],
      "metadata": {
        "colab": {
          "base_uri": "https://localhost:8080/"
        },
        "id": "4WUvfqI8QlZG",
        "outputId": "378c2a28-20f1-4dbe-d371-91bb53ead16f"
      },
      "execution_count": 18,
      "outputs": [
        {
          "output_type": "stream",
          "name": "stdout",
          "text": [
            "No LSB modules are available.\n",
            "Distributor ID:\tUbuntu\n",
            "Description:\tUbuntu 22.04.4 LTS\n",
            "Release:\t22.04\n",
            "Codename:\tjammy\n"
          ]
        }
      ]
    },
    {
      "cell_type": "code",
      "source": [
        "# Ubuntu/Debian\n",
        "!sudo apt-get install tesseract-ocr tesseract-ocr-spa tesseract-ocr-eng espeak-ng\n",
        "\n",
        "# # CentOS/RHEL\n",
        "# !sudo yum install tesseract tesseract-langpack-spa tesseract-langpack-eng\n",
        "\n",
        "# # Arch Linux\n",
        "# !sudo pacman -S tesseract tesseract-data-spa tesseract-data-eng\n",
        "\n",
        "# # Fedora\n",
        "# !sudo dnf install tesseract tesseract-langpack-spa tesseract-langpack-eng"
      ],
      "metadata": {
        "colab": {
          "base_uri": "https://localhost:8080/"
        },
        "id": "JEzIkVGaQfy4",
        "outputId": "38bc332e-0bc7-45ac-c60d-05f3726abae1"
      },
      "execution_count": 19,
      "outputs": [
        {
          "output_type": "stream",
          "name": "stdout",
          "text": [
            "Reading package lists... Done\n",
            "Building dependency tree... Done\n",
            "Reading state information... Done\n",
            "tesseract-ocr is already the newest version (4.1.1-2.1build1).\n",
            "tesseract-ocr-eng is already the newest version (1:4.00~git30-7274cfa-1.1).\n",
            "tesseract-ocr-spa is already the newest version (1:4.00~git30-7274cfa-1.1).\n",
            "espeak-ng is already the newest version (1.50+dfsg-10ubuntu0.1).\n",
            "0 upgraded, 0 newly installed, 0 to remove and 35 not upgraded.\n"
          ]
        }
      ]
    },
    {
      "cell_type": "code",
      "source": [
        "class TesseractOCR:\n",
        "    \"\"\"Implementación de OCR usando Tesseract\"\"\"\n",
        "\n",
        "    def __init__(self, language: str = 'spa+eng', config: str = ''):\n",
        "        self.language = language\n",
        "        self.config = config\n",
        "\n",
        "        # Configurar Tesseract según el sistema operativo\n",
        "        self._configure_tesseract()\n",
        "\n",
        "        # Verificar que Tesseract está instalado\n",
        "        self._verify_tesseract_installation()\n",
        "\n",
        "    def _configure_tesseract(self):\n",
        "        \"\"\"Configura la ruta de Tesseract según el sistema operativo\"\"\"\n",
        "        import platform\n",
        "        import shutil\n",
        "\n",
        "        system = platform.system().lower()\n",
        "\n",
        "        if system == 'linux':\n",
        "            # En Linux, buscar en rutas comunes\n",
        "            possible_paths = [\n",
        "                '/usr/bin/tesseract',\n",
        "                '/usr/local/bin/tesseract',\n",
        "                '/opt/tesseract/bin/tesseract',\n",
        "                shutil.which('tesseract')  # Buscar en PATH\n",
        "            ]\n",
        "\n",
        "            for path in possible_paths:\n",
        "                if path and os.path.exists(path):\n",
        "                    pytesseract.pytesseract.tesseract_cmd = path\n",
        "                    print(f\"Tesseract encontrado en: {path}\")\n",
        "                    return\n",
        "\n",
        "            # Si no se encuentra, usar el comando por defecto\n",
        "            pytesseract.pytesseract.tesseract_cmd = 'tesseract'\n",
        "\n",
        "        elif system == 'windows':\n",
        "            # Configuración para Windows\n",
        "            possible_paths = [\n",
        "                r'C:\\Program Files\\Tesseract-OCR\\tesseract.exe',\n",
        "                r'C:\\Program Files (x86)\\Tesseract-OCR\\tesseract.exe',\n",
        "                r'C:\\tesseract\\tesseract.exe'\n",
        "            ]\n",
        "\n",
        "            for path in possible_paths:\n",
        "                if os.path.exists(path):\n",
        "                    pytesseract.pytesseract.tesseract_cmd = path\n",
        "                    print(f\"Tesseract encontrado en: {path}\")\n",
        "                    return\n",
        "\n",
        "            # Si no se encuentra, usar el comando por defecto\n",
        "            pytesseract.pytesseract.tesseract_cmd = 'tesseract'\n",
        "\n",
        "        elif system == 'darwin':  # macOS\n",
        "            # En macOS con Homebrew\n",
        "            possible_paths = [\n",
        "                '/opt/homebrew/bin/tesseract',  # Apple Silicon\n",
        "                '/usr/local/bin/tesseract',     # Intel\n",
        "                shutil.which('tesseract')\n",
        "            ]\n",
        "\n",
        "            for path in possible_paths:\n",
        "                if path and os.path.exists(path):\n",
        "                    pytesseract.pytesseract.tesseract_cmd = path\n",
        "                    print(f\"Tesseract encontrado en: {path}\")\n",
        "                    return\n",
        "\n",
        "            pytesseract.pytesseract.tesseract_cmd = 'tesseract'\n",
        "\n",
        "    def _verify_tesseract_installation(self):\n",
        "        \"\"\"Verifica que Tesseract esté instalado y disponible\"\"\"\n",
        "        try:\n",
        "            version = pytesseract.get_tesseract_version()\n",
        "            print(f\"Tesseract version: {version}\")\n",
        "\n",
        "            # Verificar idiomas disponibles\n",
        "            try:\n",
        "                languages = pytesseract.get_languages()\n",
        "                print(f\"Idiomas disponibles: {languages}\")\n",
        "\n",
        "                # Verificar si los idiomas solicitados están disponibles\n",
        "                requested_langs = self.language.split('+')\n",
        "                missing_langs = [lang for lang in requested_langs if lang not in languages]\n",
        "\n",
        "                if missing_langs:\n",
        "                    print(f\"⚠️  Advertencia: Idiomas no encontrados: {missing_langs}\")\n",
        "                    print(\"Para instalar idiomas en Linux:\")\n",
        "                    print(\"Ubuntu/Debian: sudo apt-get install tesseract-ocr-spa tesseract-ocr-eng\")\n",
        "                    print(\"CentOS/RHEL: sudo yum install tesseract-langpack-spa tesseract-langpack-eng\")\n",
        "                    print(\"Arch Linux: sudo pacman -S tesseract-data-spa tesseract-data-eng\")\n",
        "\n",
        "            except Exception as e:\n",
        "                print(f\"No se pudieron obtener los idiomas: {e}\")\n",
        "\n",
        "        except Exception as e:\n",
        "            print(f\"⚠️  Error: Tesseract no está instalado o no se encuentra en PATH\")\n",
        "            print(\"Para instalar Tesseract en Linux:\")\n",
        "            print(\"Ubuntu/Debian: sudo apt-get install tesseract-ocr tesseract-ocr-spa tesseract-ocr-eng\")\n",
        "            print(\"CentOS/RHEL: sudo yum install tesseract tesseract-langpack-spa tesseract-langpack-eng\")\n",
        "            print(\"Arch Linux: sudo pacman -S tesseract tesseract-data-spa tesseract-data-eng\")\n",
        "            print(\"Fedora: sudo dnf install tesseract tesseract-langpack-spa tesseract-langpack-eng\")\n",
        "            raise Exception(f\"Tesseract no está disponible: {e}\")\n",
        "\n",
        "    def extract_text(self, image_path: str) -> str:\n",
        "        \"\"\"Extrae texto de una imagen usando Tesseract\"\"\"\n",
        "        try:\n",
        "            # Verificar que el archivo existe\n",
        "            if not os.path.exists(image_path):\n",
        "                raise FileNotFoundError(f\"No se encontró la imagen: {image_path}\")\n",
        "\n",
        "            # Abrir y procesar imagen\n",
        "            with Image.open(image_path) as img:\n",
        "                # Convertir a RGB si es necesario\n",
        "                if img.mode != 'RGB':\n",
        "                    img = img.convert('RGB')\n",
        "\n",
        "                # Aplicar mejoras de imagen si es necesario\n",
        "                img = self._preprocess_image(img)\n",
        "\n",
        "                # Extraer texto con configuración mejorada\n",
        "                custom_config = self._build_config()\n",
        "                text = pytesseract.image_to_string(\n",
        "                    img,\n",
        "                    lang=self.language,\n",
        "                    config=custom_config\n",
        "                )\n",
        "\n",
        "                return text.strip()\n",
        "\n",
        "        except FileNotFoundError as e:\n",
        "            raise Exception(f\"No se pudo encontrar la imagen: {image_path}\")\n",
        "        except Exception as e:\n",
        "            raise Exception(f\"Error al procesar la imagen: {e}\")\n",
        "\n",
        "    def _preprocess_image(self, img: Image.Image) -> Image.Image:\n",
        "        \"\"\"Preprocesa la imagen para mejorar la precisión del OCR\"\"\"\n",
        "        # Redimensionar si es muy pequeña\n",
        "        width, height = img.size\n",
        "        if width < 300 or height < 300:\n",
        "            scale_factor = max(300/width, 300/height)\n",
        "            new_width = int(width * scale_factor)\n",
        "            new_height = int(height * scale_factor)\n",
        "            img = img.resize((new_width, new_height), Image.Resampling.LANCZOS)\n",
        "\n",
        "        return img\n",
        "\n",
        "    def _build_config(self) -> str:\n",
        "        \"\"\"Construye la configuración de Tesseract optimizada\"\"\"\n",
        "        base_config = '--oem 3 --psm 6'  # OCR Engine Mode 3, Page Segmentation Mode 6\n",
        "\n",
        "        if self.config:\n",
        "            return f\"{base_config} {self.config}\"\n",
        "        else:\n",
        "            return base_config\n",
        "\n",
        "    def get_available_languages(self) -> list:\n",
        "        \"\"\"Obtiene la lista de idiomas disponibles\"\"\"\n",
        "        try:\n",
        "            return pytesseract.get_languages()\n",
        "        except Exception as e:\n",
        "            print(f\"Error al obtener idiomas: {e}\")\n",
        "            return []\n",
        "\n",
        "    def extract_text_with_confidence(self, image_path: str) -> dict:\n",
        "        \"\"\"Extrae texto con información de confianza\"\"\"\n",
        "        try:\n",
        "            with Image.open(image_path) as img:\n",
        "                if img.mode != 'RGB':\n",
        "                    img = img.convert('RGB')\n",
        "\n",
        "                img = self._preprocess_image(img)\n",
        "\n",
        "                # Obtener datos detallados\n",
        "                data = pytesseract.image_to_data(\n",
        "                    img,\n",
        "                    lang=self.language,\n",
        "                    config=self._build_config(),\n",
        "                    output_type=pytesseract.Output.DICT\n",
        "                )\n",
        "\n",
        "                # Calcular confianza promedio\n",
        "                confidences = [int(conf) for conf in data['conf'] if int(conf) > 0]\n",
        "                avg_confidence = sum(confidences) / len(confidences) if confidences else 0\n",
        "\n",
        "                # Extraer texto\n",
        "                text = ' '.join([word for word in data['text'] if word.strip()])\n",
        "\n",
        "                return {\n",
        "                    'text': text,\n",
        "                    'confidence': avg_confidence,\n",
        "                    'word_count': len([word for word in data['text'] if word.strip()])\n",
        "                }\n",
        "\n",
        "        except Exception as e:\n",
        "            raise Exception(f\"Error al procesar imagen con confianza: {e}\")\n"
      ],
      "metadata": {
        "id": "b8vcpcJvQAHc"
      },
      "execution_count": 20,
      "outputs": []
    },
    {
      "cell_type": "code",
      "source": [
        "\n",
        "\n",
        "# Clase principal del asistente con inyección de dependencias\n",
        "class AsistenteVirtual:\n",
        "    \"\"\"Asistente virtual que utiliza inyección de dependencias\"\"\"\n",
        "\n",
        "    def __init__(\n",
        "        self,\n",
        "        tts_service: Optional[PyttxGTTSTextToSpeech] = None,\n",
        "        ocr_service: Optional[OCRInterface] = None,\n",
        "        web_scraper: Optional[WebScrapingInterface] = None\n",
        "    ):\n",
        "        self.tts_service = tts_service\n",
        "        self.ocr_service = ocr_service\n",
        "        self.web_scraper = web_scraper\n",
        "\n",
        "    def hablar(self, texto: str) -> None:\n",
        "        \"\"\"Hace que el asistente hable\"\"\"\n",
        "        print(\"Asistente:\", texto)\n",
        "        self.tts_service.speak(texto)\n",
        "\n",
        "    def texto_a_voz(self, texto: str) -> None:\n",
        "        \"\"\"Convierte texto a voz\"\"\"\n",
        "        self.hablar(texto)\n",
        "\n",
        "    def imagen_a_texto(self, path_imagen: str) -> None:\n",
        "        \"\"\"Extrae texto de una imagen y lo lee en voz alta\"\"\"\n",
        "        if not self.ocr_service:\n",
        "            self.hablar(\"Servicio OCR no disponible\")\n",
        "            return\n",
        "\n",
        "        try:\n",
        "            texto = self.ocr_service.extract_text(path_imagen)\n",
        "            if texto:\n",
        "                self.hablar(\"Texto extraído:\")\n",
        "                print(f\"Texto extraído: {texto}\")\n",
        "                self.hablar(texto)\n",
        "            else:\n",
        "                self.hablar(\"No se pudo extraer texto de la imagen\")\n",
        "        except Exception as e:\n",
        "            self.hablar(\"No pude procesar la imagen\")\n",
        "            print(f\"Error: {e}\")\n",
        "\n",
        "    def extraer_info_web(self, url: str) -> None:\n",
        "        \"\"\"Extrae información de una página web y la lee\"\"\"\n",
        "        if not self.web_scraper:\n",
        "            self.hablar(\"Servicio de web scraping no disponible\")\n",
        "            return\n",
        "\n",
        "        try:\n",
        "            contenido = self.web_scraper.extract_content(url)\n",
        "            if contenido:\n",
        "                self.hablar(\"Información de la página:\")\n",
        "                print(f\"Contenido extraído: {contenido}\")\n",
        "                self.hablar(contenido)\n",
        "            else:\n",
        "                self.hablar(\"No se pudo extraer contenido de la página\")\n",
        "        except Exception as e:\n",
        "            self.hablar(\"Error al conectarme a la web\")\n",
        "            print(f\"Error: {e}\")\n"
      ],
      "metadata": {
        "id": "PWKW77bzuXKr"
      },
      "execution_count": null,
      "outputs": []
    },
    {
      "cell_type": "markdown",
      "source": [
        "## Asistente de Voz"
      ],
      "metadata": {
        "id": "mcR1nmF2RPEn"
      }
    },
    {
      "cell_type": "code",
      "source": [
        "asistente_voz = AsistenteVirtual(tts_service=PyttxGTTSTextToSpeech())\n",
        "asistente_voz.hablar(\"Lulu menea la patita, menea la colita, mueve las alitas y se da una vueltecita\")"
      ],
      "metadata": {
        "colab": {
          "base_uri": "https://localhost:8080/",
          "height": 79
        },
        "id": "XtVAKZc8SiC2",
        "outputId": "407a1ccf-e635-4a40-e15e-17556f9bce12"
      },
      "execution_count": 21,
      "outputs": [
        {
          "output_type": "stream",
          "name": "stdout",
          "text": [
            "Asistente: Lulu menea la patita, menea la colita, mueve las alitas y se da una vueltecita\n"
          ]
        },
        {
          "output_type": "display_data",
          "data": {
            "text/plain": [
              "<IPython.lib.display.Audio object>"
            ],
            "text/html": [
              "\n",
              "                <audio  controls=\"controls\" autoplay=\"autoplay\">\n",
              "                    <source src=\"data:audio/wav;base64,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\" type=\"audio/wav\" />\n",
              "                    Your browser does not support the audio element.\n",
              "                </audio>\n",
              "              "
            ]
          },
          "metadata": {}
        }
      ]
    },
    {
      "cell_type": "code",
      "source": [
        "asistente_texto = AsistenteVirtual(\n",
        "    ocr_service=TesseractOCR(language='spa+eng')\n",
        ")"
      ],
      "metadata": {
        "colab": {
          "base_uri": "https://localhost:8080/"
        },
        "id": "hQf2RwPTslyK",
        "outputId": "c8e92e7c-4662-4de5-8b44-3477480e80d4"
      },
      "execution_count": 22,
      "outputs": [
        {
          "output_type": "stream",
          "name": "stdout",
          "text": [
            "Tesseract encontrado en: /usr/bin/tesseract\n",
            "Tesseract version: 4.1.1\n",
            "Idiomas disponibles: ['eng', 'osd', 'spa']\n"
          ]
        }
      ]
    },
    {
      "cell_type": "code",
      "source": [
        "path_url = \"https://github.com/Andru-1987/74235-_DataScience_I/blob/main/clase_9/assets/text.sample.png\"\n",
        "asistente_texto.imagen_a_texto(path_url)"
      ],
      "metadata": {
        "id": "HMoOmAmes_Ub",
        "outputId": "957b968f-ab0a-4c90-f76a-ffd5e3ecdedb",
        "colab": {
          "base_uri": "https://localhost:8080/",
          "height": 526
        }
      },
      "execution_count": 23,
      "outputs": [
        {
          "output_type": "stream",
          "name": "stdout",
          "text": [
            "Asistente: No pude procesar la imagen\n"
          ]
        },
        {
          "output_type": "error",
          "ename": "AttributeError",
          "evalue": "'NoneType' object has no attribute 'speak'",
          "traceback": [
            "\u001b[0;31m---------------------------------------------------------------------------\u001b[0m",
            "\u001b[0;31mFileNotFoundError\u001b[0m                         Traceback (most recent call last)",
            "\u001b[0;32m/tmp/ipython-input-20-4165568441.py\u001b[0m in \u001b[0;36mextract_text\u001b[0;34m(self, image_path)\u001b[0m\n\u001b[1;32m    110\u001b[0m             \u001b[0;32mif\u001b[0m \u001b[0;32mnot\u001b[0m \u001b[0mos\u001b[0m\u001b[0;34m.\u001b[0m\u001b[0mpath\u001b[0m\u001b[0;34m.\u001b[0m\u001b[0mexists\u001b[0m\u001b[0;34m(\u001b[0m\u001b[0mimage_path\u001b[0m\u001b[0;34m)\u001b[0m\u001b[0;34m:\u001b[0m\u001b[0;34m\u001b[0m\u001b[0;34m\u001b[0m\u001b[0m\n\u001b[0;32m--> 111\u001b[0;31m                 \u001b[0;32mraise\u001b[0m \u001b[0mFileNotFoundError\u001b[0m\u001b[0;34m(\u001b[0m\u001b[0;34mf\"No se encontró la imagen: {image_path}\"\u001b[0m\u001b[0;34m)\u001b[0m\u001b[0;34m\u001b[0m\u001b[0;34m\u001b[0m\u001b[0m\n\u001b[0m\u001b[1;32m    112\u001b[0m \u001b[0;34m\u001b[0m\u001b[0m\n",
            "\u001b[0;31mFileNotFoundError\u001b[0m: No se encontró la imagen: https://github.com/Andru-1987/74235-_DataScience_I/blob/main/clase_9/assets/text.sample.png",
            "\nDuring handling of the above exception, another exception occurred:\n",
            "\u001b[0;31mException\u001b[0m                                 Traceback (most recent call last)",
            "\u001b[0;32m/tmp/ipython-input-17-1114328033.py\u001b[0m in \u001b[0;36mimagen_a_texto\u001b[0;34m(self, path_imagen)\u001b[0m\n\u001b[1;32m    114\u001b[0m         \u001b[0;32mtry\u001b[0m\u001b[0;34m:\u001b[0m\u001b[0;34m\u001b[0m\u001b[0;34m\u001b[0m\u001b[0m\n\u001b[0;32m--> 115\u001b[0;31m             \u001b[0mtexto\u001b[0m \u001b[0;34m=\u001b[0m \u001b[0mself\u001b[0m\u001b[0;34m.\u001b[0m\u001b[0mocr_service\u001b[0m\u001b[0;34m.\u001b[0m\u001b[0mextract_text\u001b[0m\u001b[0;34m(\u001b[0m\u001b[0mpath_imagen\u001b[0m\u001b[0;34m)\u001b[0m\u001b[0;34m\u001b[0m\u001b[0;34m\u001b[0m\u001b[0m\n\u001b[0m\u001b[1;32m    116\u001b[0m             \u001b[0;32mif\u001b[0m \u001b[0mtexto\u001b[0m\u001b[0;34m:\u001b[0m\u001b[0;34m\u001b[0m\u001b[0;34m\u001b[0m\u001b[0m\n",
            "\u001b[0;32m/tmp/ipython-input-20-4165568441.py\u001b[0m in \u001b[0;36mextract_text\u001b[0;34m(self, image_path)\u001b[0m\n\u001b[1;32m    132\u001b[0m         \u001b[0;32mexcept\u001b[0m \u001b[0mFileNotFoundError\u001b[0m \u001b[0;32mas\u001b[0m \u001b[0me\u001b[0m\u001b[0;34m:\u001b[0m\u001b[0;34m\u001b[0m\u001b[0;34m\u001b[0m\u001b[0m\n\u001b[0;32m--> 133\u001b[0;31m             \u001b[0;32mraise\u001b[0m \u001b[0mException\u001b[0m\u001b[0;34m(\u001b[0m\u001b[0;34mf\"No se pudo encontrar la imagen: {image_path}\"\u001b[0m\u001b[0;34m)\u001b[0m\u001b[0;34m\u001b[0m\u001b[0;34m\u001b[0m\u001b[0m\n\u001b[0m\u001b[1;32m    134\u001b[0m         \u001b[0;32mexcept\u001b[0m \u001b[0mException\u001b[0m \u001b[0;32mas\u001b[0m \u001b[0me\u001b[0m\u001b[0;34m:\u001b[0m\u001b[0;34m\u001b[0m\u001b[0;34m\u001b[0m\u001b[0m\n",
            "\u001b[0;31mException\u001b[0m: No se pudo encontrar la imagen: https://github.com/Andru-1987/74235-_DataScience_I/blob/main/clase_9/assets/text.sample.png",
            "\nDuring handling of the above exception, another exception occurred:\n",
            "\u001b[0;31mAttributeError\u001b[0m                            Traceback (most recent call last)",
            "\u001b[0;32m/tmp/ipython-input-23-117117510.py\u001b[0m in \u001b[0;36m<cell line: 0>\u001b[0;34m()\u001b[0m\n\u001b[1;32m      1\u001b[0m \u001b[0mpath_url\u001b[0m \u001b[0;34m=\u001b[0m \u001b[0;34m\"https://github.com/Andru-1987/74235-_DataScience_I/blob/main/clase_9/assets/text.sample.png\"\u001b[0m\u001b[0;34m\u001b[0m\u001b[0;34m\u001b[0m\u001b[0m\n\u001b[0;32m----> 2\u001b[0;31m \u001b[0masistente_texto\u001b[0m\u001b[0;34m.\u001b[0m\u001b[0mimagen_a_texto\u001b[0m\u001b[0;34m(\u001b[0m\u001b[0mpath_url\u001b[0m\u001b[0;34m)\u001b[0m\u001b[0;34m\u001b[0m\u001b[0;34m\u001b[0m\u001b[0m\n\u001b[0m",
            "\u001b[0;32m/tmp/ipython-input-17-1114328033.py\u001b[0m in \u001b[0;36mimagen_a_texto\u001b[0;34m(self, path_imagen)\u001b[0m\n\u001b[1;32m    121\u001b[0m                 \u001b[0mself\u001b[0m\u001b[0;34m.\u001b[0m\u001b[0mhablar\u001b[0m\u001b[0;34m(\u001b[0m\u001b[0;34m\"No se pudo extraer texto de la imagen\"\u001b[0m\u001b[0;34m)\u001b[0m\u001b[0;34m\u001b[0m\u001b[0;34m\u001b[0m\u001b[0m\n\u001b[1;32m    122\u001b[0m         \u001b[0;32mexcept\u001b[0m \u001b[0mException\u001b[0m \u001b[0;32mas\u001b[0m \u001b[0me\u001b[0m\u001b[0;34m:\u001b[0m\u001b[0;34m\u001b[0m\u001b[0;34m\u001b[0m\u001b[0m\n\u001b[0;32m--> 123\u001b[0;31m             \u001b[0mself\u001b[0m\u001b[0;34m.\u001b[0m\u001b[0mhablar\u001b[0m\u001b[0;34m(\u001b[0m\u001b[0;34m\"No pude procesar la imagen\"\u001b[0m\u001b[0;34m)\u001b[0m\u001b[0;34m\u001b[0m\u001b[0;34m\u001b[0m\u001b[0m\n\u001b[0m\u001b[1;32m    124\u001b[0m             \u001b[0mprint\u001b[0m\u001b[0;34m(\u001b[0m\u001b[0;34mf\"Error: {e}\"\u001b[0m\u001b[0;34m)\u001b[0m\u001b[0;34m\u001b[0m\u001b[0;34m\u001b[0m\u001b[0m\n\u001b[1;32m    125\u001b[0m \u001b[0;34m\u001b[0m\u001b[0m\n",
            "\u001b[0;32m/tmp/ipython-input-17-1114328033.py\u001b[0m in \u001b[0;36mhablar\u001b[0;34m(self, texto)\u001b[0m\n\u001b[1;32m    100\u001b[0m         \u001b[0;34m\"\"\"Hace que el asistente hable\"\"\"\u001b[0m\u001b[0;34m\u001b[0m\u001b[0;34m\u001b[0m\u001b[0m\n\u001b[1;32m    101\u001b[0m         \u001b[0mprint\u001b[0m\u001b[0;34m(\u001b[0m\u001b[0;34m\"Asistente:\"\u001b[0m\u001b[0;34m,\u001b[0m \u001b[0mtexto\u001b[0m\u001b[0;34m)\u001b[0m\u001b[0;34m\u001b[0m\u001b[0;34m\u001b[0m\u001b[0m\n\u001b[0;32m--> 102\u001b[0;31m         \u001b[0mself\u001b[0m\u001b[0;34m.\u001b[0m\u001b[0mtts_service\u001b[0m\u001b[0;34m.\u001b[0m\u001b[0mspeak\u001b[0m\u001b[0;34m(\u001b[0m\u001b[0mtexto\u001b[0m\u001b[0;34m)\u001b[0m\u001b[0;34m\u001b[0m\u001b[0;34m\u001b[0m\u001b[0m\n\u001b[0m\u001b[1;32m    103\u001b[0m \u001b[0;34m\u001b[0m\u001b[0m\n\u001b[1;32m    104\u001b[0m     \u001b[0;32mdef\u001b[0m \u001b[0mtexto_a_voz\u001b[0m\u001b[0;34m(\u001b[0m\u001b[0mself\u001b[0m\u001b[0;34m,\u001b[0m \u001b[0mtexto\u001b[0m\u001b[0;34m:\u001b[0m \u001b[0mstr\u001b[0m\u001b[0;34m)\u001b[0m \u001b[0;34m->\u001b[0m \u001b[0;32mNone\u001b[0m\u001b[0;34m:\u001b[0m\u001b[0;34m\u001b[0m\u001b[0;34m\u001b[0m\u001b[0m\n",
            "\u001b[0;31mAttributeError\u001b[0m: 'NoneType' object has no attribute 'speak'"
          ]
        }
      ]
    }
  ]
}