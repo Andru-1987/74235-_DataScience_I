{
  "nbformat": 4,
  "nbformat_minor": 0,
  "metadata": {
    "colab": {
      "provenance": [],
      "gpuType": "T4",
      "authorship_tag": "ABX9TyPpMncGdHV261oYW2BfHTof",
      "include_colab_link": true
    },
    "kernelspec": {
      "name": "python3",
      "display_name": "Python 3"
    },
    "language_info": {
      "name": "python"
    },
    "accelerator": "GPU"
  },
  "cells": [
    {
      "cell_type": "markdown",
      "metadata": {
        "id": "view-in-github",
        "colab_type": "text"
      },
      "source": [
        "<a href=\"https://colab.research.google.com/github/Andru-1987/74235-_DataScience_I/blob/main/clase_9/clase_9.ipynb\" target=\"_parent\"><img src=\"https://colab.research.google.com/assets/colab-badge.svg\" alt=\"Open In Colab\"/></a>"
      ]
    },
    {
      "cell_type": "markdown",
      "source": [
        "## Asistentes de voces\n",
        "* `pyttsx3`: is suitable for offline applications or when you need quick, local speech synthesis.\n",
        "* `gTTS`: is ideal when you need high-quality, natural-sounding voices and have an internet connection."
      ],
      "metadata": {
        "id": "gRGpl2fwMBYt"
      }
    },
    {
      "cell_type": "code",
      "source": [
        "!pip install pyttsx3 gTTS beautifulsoup4 requests pillow pytesseract"
      ],
      "metadata": {
        "colab": {
          "base_uri": "https://localhost:8080/"
        },
        "id": "Eq2k8vGVOccI",
        "outputId": "f64386a4-91e2-49ec-f726-81c9988652c9"
      },
      "execution_count": 42,
      "outputs": [
        {
          "output_type": "stream",
          "name": "stdout",
          "text": [
            "Requirement already satisfied: pyttsx3 in /usr/local/lib/python3.11/dist-packages (2.98)\n",
            "Requirement already satisfied: gTTS in /usr/local/lib/python3.11/dist-packages (2.5.4)\n",
            "Requirement already satisfied: beautifulsoup4 in /usr/local/lib/python3.11/dist-packages (4.13.4)\n",
            "Requirement already satisfied: requests in /usr/local/lib/python3.11/dist-packages (2.32.3)\n",
            "Requirement already satisfied: pillow in /usr/local/lib/python3.11/dist-packages (11.2.1)\n",
            "Requirement already satisfied: pytesseract in /usr/local/lib/python3.11/dist-packages (0.3.13)\n",
            "Requirement already satisfied: click<8.2,>=7.1 in /usr/local/lib/python3.11/dist-packages (from gTTS) (8.1.8)\n",
            "Requirement already satisfied: soupsieve>1.2 in /usr/local/lib/python3.11/dist-packages (from beautifulsoup4) (2.7)\n",
            "Requirement already satisfied: typing-extensions>=4.0.0 in /usr/local/lib/python3.11/dist-packages (from beautifulsoup4) (4.14.0)\n",
            "Requirement already satisfied: charset-normalizer<4,>=2 in /usr/local/lib/python3.11/dist-packages (from requests) (3.4.2)\n",
            "Requirement already satisfied: idna<4,>=2.5 in /usr/local/lib/python3.11/dist-packages (from requests) (3.10)\n",
            "Requirement already satisfied: urllib3<3,>=1.21.1 in /usr/local/lib/python3.11/dist-packages (from requests) (2.4.0)\n",
            "Requirement already satisfied: certifi>=2017.4.17 in /usr/local/lib/python3.11/dist-packages (from requests) (2025.6.15)\n",
            "Requirement already satisfied: packaging>=21.3 in /usr/local/lib/python3.11/dist-packages (from pytesseract) (24.2)\n"
          ]
        }
      ]
    },
    {
      "cell_type": "code",
      "source": [
        "import pyttsx3\n",
        "import pytesseract\n",
        "import requests\n",
        "from gtts import gTTS\n",
        "from PIL import Image\n",
        "from bs4 import BeautifulSoup\n",
        "import pygame\n",
        "import io\n",
        "import os\n",
        "from abc import ABC, abstractmethod\n",
        "from typing import Optional, Protocol\n",
        "\n",
        "\n",
        "from IPython.display import Audio, display\n"
      ],
      "metadata": {
        "id": "LghedaGkNsHm"
      },
      "execution_count": 43,
      "outputs": []
    },
    {
      "cell_type": "code",
      "source": [
        "# Interfaces/Protocolos para inyección de dependencias\n",
        "class TextToSpeechInterface(Protocol):\n",
        "    \"\"\"Interfaz para servicios de texto a voz\"\"\"\n",
        "    def speak(self, text: str) -> None:\n",
        "        \"\"\"Texto a voz\"\"\"\n",
        "        ...\n",
        "\n",
        "class OCRInterface(Protocol):\n",
        "    \"\"\"Interfaz para servicios de OCR\"\"\"\n",
        "    def extract_text(self, image_path: str) -> str:\n",
        "        \"\"\"Texto a imagen\"\"\"\n",
        "        ...\n",
        "\n",
        "class WebScrapingInterface(Protocol):\n",
        "    \"\"\"Interfaz para servicios de web scraping\"\"\"\n",
        "    def extract_content(self, url: str) -> str:\n",
        "        \"\"\"Toma contenido web\"\"\"\n",
        "        ...\n"
      ],
      "metadata": {
        "id": "XRziYoAkOp4b"
      },
      "execution_count": 44,
      "outputs": []
    },
    {
      "cell_type": "code",
      "source": [
        "import sys\n",
        "import io\n",
        "from gtts import gTTS\n",
        "from IPython.display import Audio, display\n",
        "\n",
        "class PyttxGTTSTextToSpeech:\n",
        "    \"\"\"\n",
        "    Implementación compatible con Google Colab.\n",
        "    Si se detecta que está en Colab, usa gTTS + Audio de IPython.\n",
        "    Si está en entorno local, intenta usar pyttsx3 (si está disponible).\n",
        "    \"\"\"\n",
        "\n",
        "    def __init__(self, rate: int = 150, voice_index: int = 0, language: str = 'es'):\n",
        "        self.language = language\n",
        "        self.in_colab = 'google.colab' in sys.modules\n",
        "\n",
        "        if not self.in_colab:\n",
        "            try:\n",
        "                import pyttsx3\n",
        "                self.engine = pyttsx3.init()\n",
        "                self.engine.setProperty(\"rate\", rate)\n",
        "\n",
        "                voices = self.engine.getProperty('voices')\n",
        "                if voices and len(voices) > voice_index:\n",
        "                    self.engine.setProperty('voice', voices[voice_index].id)\n",
        "            except Exception as e:\n",
        "                print(f\"No se pudo inicializar pyttsx3: {e}\")\n",
        "                self.engine = None\n",
        "\n",
        "    def speak(self, text: str) -> None:\n",
        "        \"\"\"Convierte texto a voz, compatible con Google Colab y entorno local.\"\"\"\n",
        "        try:\n",
        "            if self.in_colab:\n",
        "                # En Google Colab: usar gTTS\n",
        "                tts = gTTS(text=text, lang=self.language)\n",
        "                audio_buffer = io.BytesIO()\n",
        "                tts.write_to_fp(audio_buffer)\n",
        "                audio_buffer.seek(0)\n",
        "                display(Audio(audio_buffer.read(), autoplay=True))\n",
        "            elif hasattr(self, 'engine') and self.engine:\n",
        "                # En entorno local con pyttsx3\n",
        "                self.engine.say(text)\n",
        "                self.engine.runAndWait()\n",
        "            else:\n",
        "                raise RuntimeError(\"No hay motor TTS disponible.\")\n",
        "        except Exception as e:\n",
        "            print(f\"Error en TTS: {e}\")\n",
        "\n",
        "\n",
        "class BeautifulSoupWebScraper:\n",
        "    \"\"\"Implementación de web scraping usando BeautifulSoup\"\"\"\n",
        "\n",
        "    def __init__(self, timeout: int = 10, max_paragraphs: int = 3):\n",
        "        self.timeout = timeout\n",
        "        self.max_paragraphs = max_paragraphs\n",
        "        self.headers = {\n",
        "            'User-Agent': 'Mozilla/5.0 (Windows NT 10.0; Win64; x64) AppleWebKit/537.36'\n",
        "        }\n",
        "\n",
        "    def extract_content(self, url: str) -> str:\n",
        "        \"\"\"Extrae contenido de una página web\"\"\"\n",
        "        try:\n",
        "            response = requests.get(url, headers=self.headers, timeout=self.timeout)\n",
        "            response.raise_for_status()\n",
        "\n",
        "            soup = BeautifulSoup(response.content, 'html.parser')\n",
        "\n",
        "            # Extraer párrafos\n",
        "            paragraphs = soup.find_all('p')\n",
        "            text_content = []\n",
        "\n",
        "            for p in paragraphs[:self.max_paragraphs]:\n",
        "                text = p.get_text(strip=True)\n",
        "                if text:  # Solo agregar párrafos no vacíos\n",
        "                    text_content.append(text)\n",
        "\n",
        "            return ' '.join(text_content)\n",
        "\n",
        "        except requests.RequestException as e:\n",
        "            raise Exception(f\"Error al conectar con la URL: {e}\")\n",
        "        except Exception as e:\n",
        "            raise Exception(f\"Error al procesar el contenido: {e}\")\n",
        "\n",
        "\n",
        "# Clase principal del asistente con inyección de dependencias\n",
        "class AsistenteVirtual:\n",
        "    \"\"\"Asistente virtual que utiliza inyección de dependencias\"\"\"\n",
        "\n",
        "    def __init__(\n",
        "        self,\n",
        "        tts_service: PyttxGTTSTextToSpeech,\n",
        "        ocr_service: Optional[OCRInterface] = None,\n",
        "        web_scraper: Optional[WebScrapingInterface] = None\n",
        "    ):\n",
        "        self.tts_service = tts_service\n",
        "        self.ocr_service = ocr_service\n",
        "        self.web_scraper = web_scraper\n",
        "\n",
        "    def hablar(self, texto: str) -> None:\n",
        "        \"\"\"Hace que el asistente hable\"\"\"\n",
        "        print(\"Asistente:\", texto)\n",
        "        self.tts_service.speak(texto)\n",
        "\n",
        "    def texto_a_voz(self, texto: str) -> None:\n",
        "        \"\"\"Convierte texto a voz\"\"\"\n",
        "        self.hablar(texto)\n",
        "\n",
        "    def imagen_a_texto(self, path_imagen: str) -> None:\n",
        "        \"\"\"Extrae texto de una imagen y lo lee en voz alta\"\"\"\n",
        "        if not self.ocr_service:\n",
        "            self.hablar(\"Servicio OCR no disponible\")\n",
        "            return\n",
        "\n",
        "        try:\n",
        "            texto = self.ocr_service.extract_text(path_imagen)\n",
        "            if texto:\n",
        "                self.hablar(\"Texto extraído:\")\n",
        "                print(f\"Texto extraído: {texto}\")\n",
        "                self.hablar(texto)\n",
        "            else:\n",
        "                self.hablar(\"No se pudo extraer texto de la imagen\")\n",
        "        except Exception as e:\n",
        "            self.hablar(\"No pude procesar la imagen\")\n",
        "            print(f\"Error: {e}\")\n",
        "\n",
        "    def extraer_info_web(self, url: str) -> None:\n",
        "        \"\"\"Extrae información de una página web y la lee\"\"\"\n",
        "        if not self.web_scraper:\n",
        "            self.hablar(\"Servicio de web scraping no disponible\")\n",
        "            return\n",
        "\n",
        "        try:\n",
        "            contenido = self.web_scraper.extract_content(url)\n",
        "            if contenido:\n",
        "                self.hablar(\"Información de la página:\")\n",
        "                print(f\"Contenido extraído: {contenido}\")\n",
        "                self.hablar(contenido)\n",
        "            else:\n",
        "                self.hablar(\"No se pudo extraer contenido de la página\")\n",
        "        except Exception as e:\n",
        "            self.hablar(\"Error al conectarme a la web\")\n",
        "            print(f\"Error: {e}\")\n",
        "\n",
        "\n"
      ],
      "metadata": {
        "id": "YhavJ37KNWk_"
      },
      "execution_count": 45,
      "outputs": []
    },
    {
      "cell_type": "markdown",
      "source": [
        "### Clase especial para Imagen a Texto"
      ],
      "metadata": {
        "id": "ynH7imh5QNTV"
      }
    },
    {
      "cell_type": "code",
      "source": [
        "! lsb_release -a"
      ],
      "metadata": {
        "colab": {
          "base_uri": "https://localhost:8080/"
        },
        "id": "4WUvfqI8QlZG",
        "outputId": "fd3d8ad4-86f1-44bb-a469-ca6c12a0c339"
      },
      "execution_count": 46,
      "outputs": [
        {
          "output_type": "stream",
          "name": "stdout",
          "text": [
            "No LSB modules are available.\n",
            "Distributor ID:\tUbuntu\n",
            "Description:\tUbuntu 22.04.4 LTS\n",
            "Release:\t22.04\n",
            "Codename:\tjammy\n"
          ]
        }
      ]
    },
    {
      "cell_type": "code",
      "source": [
        "# Ubuntu/Debian\n",
        "!sudo apt-get install tesseract-ocr tesseract-ocr-spa tesseract-ocr-eng espeak-ng\n",
        "\n",
        "# # CentOS/RHEL\n",
        "# !sudo yum install tesseract tesseract-langpack-spa tesseract-langpack-eng\n",
        "\n",
        "# # Arch Linux\n",
        "# !sudo pacman -S tesseract tesseract-data-spa tesseract-data-eng\n",
        "\n",
        "# # Fedora\n",
        "# !sudo dnf install tesseract tesseract-langpack-spa tesseract-langpack-eng"
      ],
      "metadata": {
        "colab": {
          "base_uri": "https://localhost:8080/"
        },
        "id": "JEzIkVGaQfy4",
        "outputId": "bd5bdb6a-7fd2-4e6a-9fec-b6d07331b2d5"
      },
      "execution_count": 47,
      "outputs": [
        {
          "output_type": "stream",
          "name": "stdout",
          "text": [
            "Reading package lists... Done\n",
            "Building dependency tree... Done\n",
            "Reading state information... Done\n",
            "tesseract-ocr is already the newest version (4.1.1-2.1build1).\n",
            "tesseract-ocr-eng is already the newest version (1:4.00~git30-7274cfa-1.1).\n",
            "tesseract-ocr-spa is already the newest version (1:4.00~git30-7274cfa-1.1).\n",
            "espeak-ng is already the newest version (1.50+dfsg-10ubuntu0.1).\n",
            "0 upgraded, 0 newly installed, 0 to remove and 35 not upgraded.\n"
          ]
        }
      ]
    },
    {
      "cell_type": "code",
      "source": [
        "class TesseractOCR:\n",
        "    \"\"\"Implementación de OCR usando Tesseract\"\"\"\n",
        "\n",
        "    def __init__(self, language: str = 'spa+eng', config: str = ''):\n",
        "        self.language = language\n",
        "        self.config = config\n",
        "\n",
        "        # Configurar Tesseract según el sistema operativo\n",
        "        self._configure_tesseract()\n",
        "\n",
        "        # Verificar que Tesseract está instalado\n",
        "        self._verify_tesseract_installation()\n",
        "\n",
        "    def _configure_tesseract(self):\n",
        "        \"\"\"Configura la ruta de Tesseract según el sistema operativo\"\"\"\n",
        "        import platform\n",
        "        import shutil\n",
        "\n",
        "        system = platform.system().lower()\n",
        "\n",
        "        if system == 'linux':\n",
        "            # En Linux, buscar en rutas comunes\n",
        "            possible_paths = [\n",
        "                '/usr/bin/tesseract',\n",
        "                '/usr/local/bin/tesseract',\n",
        "                '/opt/tesseract/bin/tesseract',\n",
        "                shutil.which('tesseract')  # Buscar en PATH\n",
        "            ]\n",
        "\n",
        "            for path in possible_paths:\n",
        "                if path and os.path.exists(path):\n",
        "                    pytesseract.pytesseract.tesseract_cmd = path\n",
        "                    print(f\"Tesseract encontrado en: {path}\")\n",
        "                    return\n",
        "\n",
        "            # Si no se encuentra, usar el comando por defecto\n",
        "            pytesseract.pytesseract.tesseract_cmd = 'tesseract'\n",
        "\n",
        "        elif system == 'windows':\n",
        "            # Configuración para Windows\n",
        "            possible_paths = [\n",
        "                r'C:\\Program Files\\Tesseract-OCR\\tesseract.exe',\n",
        "                r'C:\\Program Files (x86)\\Tesseract-OCR\\tesseract.exe',\n",
        "                r'C:\\tesseract\\tesseract.exe'\n",
        "            ]\n",
        "\n",
        "            for path in possible_paths:\n",
        "                if os.path.exists(path):\n",
        "                    pytesseract.pytesseract.tesseract_cmd = path\n",
        "                    print(f\"Tesseract encontrado en: {path}\")\n",
        "                    return\n",
        "\n",
        "            # Si no se encuentra, usar el comando por defecto\n",
        "            pytesseract.pytesseract.tesseract_cmd = 'tesseract'\n",
        "\n",
        "        elif system == 'darwin':  # macOS\n",
        "            # En macOS con Homebrew\n",
        "            possible_paths = [\n",
        "                '/opt/homebrew/bin/tesseract',  # Apple Silicon\n",
        "                '/usr/local/bin/tesseract',     # Intel\n",
        "                shutil.which('tesseract')\n",
        "            ]\n",
        "\n",
        "            for path in possible_paths:\n",
        "                if path and os.path.exists(path):\n",
        "                    pytesseract.pytesseract.tesseract_cmd = path\n",
        "                    print(f\"Tesseract encontrado en: {path}\")\n",
        "                    return\n",
        "\n",
        "            pytesseract.pytesseract.tesseract_cmd = 'tesseract'\n",
        "\n",
        "    def _verify_tesseract_installation(self):\n",
        "        \"\"\"Verifica que Tesseract esté instalado y disponible\"\"\"\n",
        "        try:\n",
        "            version = pytesseract.get_tesseract_version()\n",
        "            print(f\"Tesseract version: {version}\")\n",
        "\n",
        "            # Verificar idiomas disponibles\n",
        "            try:\n",
        "                languages = pytesseract.get_languages()\n",
        "                print(f\"Idiomas disponibles: {languages}\")\n",
        "\n",
        "                # Verificar si los idiomas solicitados están disponibles\n",
        "                requested_langs = self.language.split('+')\n",
        "                missing_langs = [lang for lang in requested_langs if lang not in languages]\n",
        "\n",
        "                if missing_langs:\n",
        "                    print(f\"⚠️  Advertencia: Idiomas no encontrados: {missing_langs}\")\n",
        "                    print(\"Para instalar idiomas en Linux:\")\n",
        "                    print(\"Ubuntu/Debian: sudo apt-get install tesseract-ocr-spa tesseract-ocr-eng\")\n",
        "                    print(\"CentOS/RHEL: sudo yum install tesseract-langpack-spa tesseract-langpack-eng\")\n",
        "                    print(\"Arch Linux: sudo pacman -S tesseract-data-spa tesseract-data-eng\")\n",
        "\n",
        "            except Exception as e:\n",
        "                print(f\"No se pudieron obtener los idiomas: {e}\")\n",
        "\n",
        "        except Exception as e:\n",
        "            print(f\"⚠️  Error: Tesseract no está instalado o no se encuentra en PATH\")\n",
        "            print(\"Para instalar Tesseract en Linux:\")\n",
        "            print(\"Ubuntu/Debian: sudo apt-get install tesseract-ocr tesseract-ocr-spa tesseract-ocr-eng\")\n",
        "            print(\"CentOS/RHEL: sudo yum install tesseract tesseract-langpack-spa tesseract-langpack-eng\")\n",
        "            print(\"Arch Linux: sudo pacman -S tesseract tesseract-data-spa tesseract-data-eng\")\n",
        "            print(\"Fedora: sudo dnf install tesseract tesseract-langpack-spa tesseract-langpack-eng\")\n",
        "            raise Exception(f\"Tesseract no está disponible: {e}\")\n",
        "\n",
        "    def extract_text(self, image_path: str) -> str:\n",
        "        \"\"\"Extrae texto de una imagen usando Tesseract\"\"\"\n",
        "        try:\n",
        "            # Verificar que el archivo existe\n",
        "            if not os.path.exists(image_path):\n",
        "                raise FileNotFoundError(f\"No se encontró la imagen: {image_path}\")\n",
        "\n",
        "            # Abrir y procesar imagen\n",
        "            with Image.open(image_path) as img:\n",
        "                # Convertir a RGB si es necesario\n",
        "                if img.mode != 'RGB':\n",
        "                    img = img.convert('RGB')\n",
        "\n",
        "                # Aplicar mejoras de imagen si es necesario\n",
        "                img = self._preprocess_image(img)\n",
        "\n",
        "                # Extraer texto con configuración mejorada\n",
        "                custom_config = self._build_config()\n",
        "                text = pytesseract.image_to_string(\n",
        "                    img,\n",
        "                    lang=self.language,\n",
        "                    config=custom_config\n",
        "                )\n",
        "\n",
        "                return text.strip()\n",
        "\n",
        "        except FileNotFoundError as e:\n",
        "            raise Exception(f\"No se pudo encontrar la imagen: {image_path}\")\n",
        "        except Exception as e:\n",
        "            raise Exception(f\"Error al procesar la imagen: {e}\")\n",
        "\n",
        "    def _preprocess_image(self, img: Image.Image) -> Image.Image:\n",
        "        \"\"\"Preprocesa la imagen para mejorar la precisión del OCR\"\"\"\n",
        "        # Redimensionar si es muy pequeña\n",
        "        width, height = img.size\n",
        "        if width < 300 or height < 300:\n",
        "            scale_factor = max(300/width, 300/height)\n",
        "            new_width = int(width * scale_factor)\n",
        "            new_height = int(height * scale_factor)\n",
        "            img = img.resize((new_width, new_height), Image.Resampling.LANCZOS)\n",
        "\n",
        "        return img\n",
        "\n",
        "    def _build_config(self) -> str:\n",
        "        \"\"\"Construye la configuración de Tesseract optimizada\"\"\"\n",
        "        base_config = '--oem 3 --psm 6'  # OCR Engine Mode 3, Page Segmentation Mode 6\n",
        "\n",
        "        if self.config:\n",
        "            return f\"{base_config} {self.config}\"\n",
        "        else:\n",
        "            return base_config\n",
        "\n",
        "    def get_available_languages(self) -> list:\n",
        "        \"\"\"Obtiene la lista de idiomas disponibles\"\"\"\n",
        "        try:\n",
        "            return pytesseract.get_languages()\n",
        "        except Exception as e:\n",
        "            print(f\"Error al obtener idiomas: {e}\")\n",
        "            return []\n",
        "\n",
        "    def extract_text_with_confidence(self, image_path: str) -> dict:\n",
        "        \"\"\"Extrae texto con información de confianza\"\"\"\n",
        "        try:\n",
        "            with Image.open(image_path) as img:\n",
        "                if img.mode != 'RGB':\n",
        "                    img = img.convert('RGB')\n",
        "\n",
        "                img = self._preprocess_image(img)\n",
        "\n",
        "                # Obtener datos detallados\n",
        "                data = pytesseract.image_to_data(\n",
        "                    img,\n",
        "                    lang=self.language,\n",
        "                    config=self._build_config(),\n",
        "                    output_type=pytesseract.Output.DICT\n",
        "                )\n",
        "\n",
        "                # Calcular confianza promedio\n",
        "                confidences = [int(conf) for conf in data['conf'] if int(conf) > 0]\n",
        "                avg_confidence = sum(confidences) / len(confidences) if confidences else 0\n",
        "\n",
        "                # Extraer texto\n",
        "                text = ' '.join([word for word in data['text'] if word.strip()])\n",
        "\n",
        "                return {\n",
        "                    'text': text,\n",
        "                    'confidence': avg_confidence,\n",
        "                    'word_count': len([word for word in data['text'] if word.strip()])\n",
        "                }\n",
        "\n",
        "        except Exception as e:\n",
        "            raise Exception(f\"Error al procesar imagen con confianza: {e}\")\n"
      ],
      "metadata": {
        "id": "b8vcpcJvQAHc"
      },
      "execution_count": 48,
      "outputs": []
    },
    {
      "cell_type": "markdown",
      "source": [
        "## Asistente de Voz"
      ],
      "metadata": {
        "id": "mcR1nmF2RPEn"
      }
    },
    {
      "cell_type": "code",
      "source": [
        "asistente_voz = AsistenteVirtual(tts_service=PyttxGTTSTextToSpeech())\n",
        "asistente_voz.hablar(\"Ejecutando desde google colab\")"
      ],
      "metadata": {
        "colab": {
          "base_uri": "https://localhost:8080/",
          "height": 79
        },
        "id": "XtVAKZc8SiC2",
        "outputId": "e4aefbc3-6a3c-437c-8999-d3ec7ec47d83"
      },
      "execution_count": 49,
      "outputs": [
        {
          "output_type": "stream",
          "name": "stdout",
          "text": [
            "Asistente: Hola, soy tu asistente de voz\n"
          ]
        },
        {
          "output_type": "display_data",
          "data": {
            "text/plain": [
              "<IPython.lib.display.Audio object>"
            ],
            "text/html": [
              "\n",
              "                <audio  controls=\"controls\" autoplay=\"autoplay\">\n",
              "                    <source src=\"data:audio/wav;base64,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\" type=\"audio/wav\" />\n",
              "                    Your browser does not support the audio element.\n",
              "                </audio>\n",
              "              "
            ]
          },
          "metadata": {}
        }
      ]
    }
  ]
}