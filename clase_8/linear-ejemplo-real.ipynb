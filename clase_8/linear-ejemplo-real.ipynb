{
  "cells": [
    {
      "cell_type": "markdown",
      "metadata": {
        "id": "view-in-github",
        "colab_type": "text"
      },
      "source": [
        "<a href=\"https://colab.research.google.com/github/Andru-1987/74235-_DataScience_I/blob/main/clase_8/linear-ejemplo-real.ipynb\" target=\"_parent\"><img src=\"https://colab.research.google.com/assets/colab-badge.svg\" alt=\"Open In Colab\"/></a>"
      ]
    },
    {
      "cell_type": "markdown",
      "source": [
        "## Regresion lineal"
      ],
      "metadata": {
        "id": "m35Tq9M6CBNd"
      },
      "id": "m35Tq9M6CBNd"
    },
    {
      "cell_type": "markdown",
      "source": [
        "##Sección 1- Presentación del problema específico\n",
        "\n",
        "### 💼 Empezar tu carrera en IT puede ser abrumador… pero no estás solo\n",
        "\n",
        "Si sos un joven profesional recién graduado y estás buscando tu primer trabajo en el sector IT, seguramente te sientas desbordado por la cantidad de información disponible. ¿Qué empresas ofrecen buenas condiciones? ¿Dónde se paga mejor? ¿Cómo saber si estás recibiendo un salario justo?\n",
        "\n",
        "👉 ¡Estamos acá para ayudarte!\n",
        "\n",
        "Hemos desarrollado una herramienta colaborativa que te permite **calificar empresas** en las que trabajaste, **compartir tus experiencias** con otros profesionales y acceder a información clave sobre el mercado laboral en tecnología.\n",
        "\n",
        "Además, realizamos una investigación profunda sobre el estado actual del empleo en IT, analizando miles de datos para responder las preguntas que más te preocupan:\n",
        "\n",
        "* ¿Qué empresas tienen mejor reputación entre jóvenes talentos?\n",
        "* ¿Cómo varían los salarios según experiencia, rol o género?\n",
        "* ¿Qué tan inclusivo y equitativo es el sector?\n",
        "\n",
        "### 📊 Lo que encontramos\n",
        "\n",
        "Nuestro estudio revela algunas desigualdades preocupantes:\n",
        "\n",
        "* Una **brecha de género persistente**, especialmente en roles de liderazgo.\n",
        "* **Diferencias salariales** marcadas según la antigüedad y el género.\n",
        "* Y una necesidad urgente de mayor transparencia en las condiciones laborales.\n",
        "\n",
        "Pero también encontramos señales de cambio: muchas empresas están tomando medidas concretas para mejorar sus prácticas, y hay una comunidad creciente de profesionales comprometidos con un futuro más justo.\n",
        "\n",
        "### 🚀 ¿Por qué te sirve esto?\n",
        "\n",
        "Nuestro informe está diseñado para vos: **visualizaciones claras**, **análisis accesibles** y recomendaciones prácticas que te ayudarán a tomar decisiones informadas sobre tu carrera.\n",
        "\n",
        "\n",
        "\n",
        "### **Datos utilizados**\n",
        "\n",
        "Los datos empleados en este estudio provienen de **encuestas de sueldos realizadas en 2020** a profesionales del sector tecnológico en **la ciudad de Buenos Aires y el conurbano bonaerense**. Estas encuestas fueron diseñadas y ejecutadas por un equipo especializado en recursos humanos y análisis de datos, con el objetivo de relevar información detallada sobre **salarios, experiencia, posición laboral, industria y otros factores asociados a la remuneración**.\n",
        "\n",
        "Antes de su análisis, los datos fueron sometidos a un proceso riguroso de **limpieza y depuración**, que incluyó:\n",
        "\n",
        "* Eliminación de columnas con alto porcentaje de valores faltantes.\n",
        "* Renombramiento de variables con etiquetas poco claras.\n",
        "* Detección y remoción de outliers.\n",
        "* Selección de variables más relevantes mediante análisis de correlación.\n",
        "\n",
        "Este tratamiento permitió mejorar la **calidad, consistencia y relevancia del conjunto de datos**, garantizando una base sólida para explorar la distribución salarial y detectar posibles inequidades en el sector tecnológico argentino.\n",
        "\n",
        "\n",
        "#Sección 2- Preguntas que buscamos responder\n",
        "\n",
        "**2.1 Hipótesis**\n",
        "\n",
        "2.1.1 Hipótesis 1: Los hombres al menos triplican en cantidad de profesionales a las mujeres\n",
        "\n",
        "2.1.2 Hipótesis 2: La mayor cantidad de los profesionales se encuentran entre los 30 y 40 años\n",
        "\n",
        "2.1.3 Hipótesis 3: Existe inequidad de género porque los hombres tienen un salario mayor a las mujeres\n",
        "\n",
        "2.1.4 Hipótesis 4: Los salarios más altos corresponden a los técnicos con mayor cantidad de años de experiencia\n",
        "\n",
        "2.1.5 Hipótesis 5: Las personas que mantienen sus puestos de trabajo poseen mayores salarios que los profesionales que recién ingresan a las empresas. Se va a comparar a las personas que tienen menos de 5 años en un mismo puesto\n",
        "\n",
        "\n",
        "**2.2 Conclusiones Hipótesis**\n",
        "\n",
        "2.1.1 Hipótesis 1: Verdadero. Prácticamente hay 5 veces más hombres que mujeres en el sector\n",
        "\n",
        "2.1.2 Hipótesis 2: Falso. La mayor cantidad de los profesionales se encuentran entre los 25 y 35 años\n",
        "\n",
        "2.1.3 Hipótesis 3: Verdadero. Prácticamente el salario promedio de un hombre es 20% mayor al de una mujer promedio\n",
        "\n",
        "2.1.4 Hipótesis 4: Dudoso. Los salarios más altos corresponden a los técnicos que poseen más de 10 años de experiencia. Luego hay un estancamiento en el salario. Es decir, que una persona que tiene 20 años no suele ganar más que una que tiene 10 años\n",
        "\n",
        "2.1.5 Hipótesis 5: Falso. No se puede identificar una correlación entre los salarios y el tiempo de pertenencia en un puesto laboral"
      ],
      "metadata": {
        "id": "csIuA9wLDKF0"
      },
      "id": "csIuA9wLDKF0"
    },
    {
      "cell_type": "code",
      "source": [
        "import pandas as pd\n",
        "import numpy as np\n",
        "import matplotlib.pyplot as plt\n",
        "import seaborn as sns"
      ],
      "metadata": {
        "id": "uJ_HRrVICKw-"
      },
      "id": "uJ_HRrVICKw-",
      "execution_count": null,
      "outputs": []
    },
    {
      "cell_type": "code",
      "execution_count": null,
      "id": "c6057009",
      "metadata": {
        "id": "c6057009"
      },
      "outputs": [],
      "source": [
        "raw_table_csv = \"https://raw.githubusercontent.com/eea-uba/EEA-2022/main/Fuentes/Encuesta%20de%20remuneracion%20salarial%20-%202020.1.csv\""
      ]
    },
    {
      "cell_type": "code",
      "source": [
        "df = pd.read_csv(raw_table_csv, index_col=0)\n",
        "df.head()"
      ],
      "metadata": {
        "id": "zSTA_UFoB91d"
      },
      "id": "zSTA_UFoB91d",
      "execution_count": null,
      "outputs": []
    },
    {
      "cell_type": "code",
      "source": [
        "#Cambio nombre de Me identifico por Genero\n",
        "\n",
        "df.rename(columns= {\"Me identifico\":\"Genero\"}, inplace = True)\n",
        "\n",
        "#Cambio nombre de Tengo por Edad\n",
        "df.rename(columns= {\"Tengo\":\"Edad\"}, inplace = True)\n",
        "\n",
        "#Quito lo de tu moneda local\n",
        "\n",
        "df.rename(columns= {\"Salario mensual BRUTO (en tu moneda local)\":\"SalarioB\"}, inplace = True)\n",
        "\n",
        "\n",
        "df.rename(columns= {\"Salario mensual NETO (en tu moneda local)\":\"SalarioN\"}, inplace = True)\n",
        "\n",
        "\n",
        "#Borrar varias columnas que no tienen datos, todos trabajan en Argentina\n",
        "df = df.drop(columns=['SalarioN', 'Estoy trabajando en', 'Dónde estás trabajando','Bolivia', 'Chile', 'Colombia', 'Cuba', 'Costa Rica', 'Ecuador','El Salvador', 'Guatemala', 'Honduras', 'México', 'Nicaragua', 'Panamá',\n",
        "'Paraguay', 'Perú', 'Puerto Rico', 'República Dominicana', 'Uruguay', 'Venezuela'])\n",
        "\n",
        "df.columns"
      ],
      "metadata": {
        "id": "gnnnYwY8CIy3"
      },
      "id": "gnnnYwY8CIy3",
      "execution_count": null,
      "outputs": []
    },
    {
      "cell_type": "code",
      "source": [
        "df.info()"
      ],
      "metadata": {
        "id": "NzJ74TnbC1Iy"
      },
      "id": "NzJ74TnbC1Iy",
      "execution_count": null,
      "outputs": []
    },
    {
      "cell_type": "markdown",
      "source": [
        "**Hipotesis 1**\n",
        "\n",
        "*Hipotesis 1: Los hombres al menos triplican en cantidad de profesionales a las mujeres*\n",
        "\n",
        "**Conclusión 1**\n",
        "\n",
        "*Hipotesis 1: Verdadero. Prácticamente hay 5 veces más hombres que mujeres en el sector*\n"
      ],
      "metadata": {
        "id": "CkBnvfTKEkmW"
      },
      "id": "CkBnvfTKEkmW"
    },
    {
      "cell_type": "code",
      "source": [
        "fig = plt.figure(figsize=(8, 6))\n",
        "(df[\"Genero\"].value_counts(normalize=True)*100).plot(kind=\"bar\")\n",
        "plt.tight_layout() #evitar el superposicionamiento\n",
        "plt.title(\"Gráfico de barras por Genero\", color='black', fontsize=25)\n",
        "plt.xlabel(\"Genero\", color='white')\n",
        "plt.ylabel(\"Porcentaje\", color=\"white\")\n",
        "plt.grid(True) #Para en forma de cuadricula\n",
        "fig.set_facecolor(\"white\")"
      ],
      "metadata": {
        "id": "Ztz5XNQbEm00"
      },
      "id": "Ztz5XNQbEm00",
      "execution_count": null,
      "outputs": []
    },
    {
      "cell_type": "markdown",
      "source": [
        "**2.1.2 Hipotesis 2**\n",
        "\n",
        "*Hipotesis 2: La mayor cantidad de los profesionales se encuentran entre los 30 y 40 años*\n",
        "\n",
        "**Conclusión 2**\n",
        "\n",
        "*Hipotesis 2: Falso. La mayor cantidad de los profesionales se encuentran entre los 25 y 35 años*\n",
        "\n",
        "\n"
      ],
      "metadata": {
        "id": "QgYfGIVEFNcg"
      },
      "id": "QgYfGIVEFNcg"
    },
    {
      "cell_type": "code",
      "source": [
        "import matplotlib.pyplot as plt\n",
        "import seaborn as sns\n",
        "\n",
        "plt.figure(figsize=(8, 6))\n",
        "sns.histplot(df[\"Edad\"], bins=10, color=\"blue\", kde=True, edgecolor=\"black\")\n",
        "\n",
        "plt.title(\"Distribución de Edades en el Sector IT\", color='black', fontsize=20)\n",
        "plt.xlabel(\"Edad\")\n",
        "plt.ylabel(\"Cantidad de profesionales\")\n",
        "plt.gcf().set_facecolor(\"white\")  # Establece fondo blanco\n",
        "plt.tight_layout()\n",
        "plt.show()\n"
      ],
      "metadata": {
        "id": "PxlYswlWExCW"
      },
      "id": "PxlYswlWExCW",
      "execution_count": null,
      "outputs": []
    },
    {
      "cell_type": "markdown",
      "source": [
        "---\n",
        "**Analisis Bivariado**\n",
        "\n",
        "El código presentado realiza un análisis bivariado de la distribución de la edad por género utilizando un gráfico de violín. Los violines representan la distribución de la edad para cada género y su ancho representa la densidad de la distribución en esa edad. La posición de los violines indica la mediana y la forma del violín muestra la asimetría de la distribución. Este gráfico es útil para comparar la distribución de la edad entre diferentes géneros en un solo vistazo. El código además establece el título y el tamaño del gráfico para una mejor visualización.\n"
      ],
      "metadata": {
        "id": "BCvJsGhwFk2G"
      },
      "id": "BCvJsGhwFk2G"
    },
    {
      "cell_type": "code",
      "source": [
        "import matplotlib.pyplot as plt\n",
        "import seaborn as sns\n",
        "\n",
        "fig = plt.figure(figsize=(10, 6))\n",
        "\n",
        "sns.violinplot(data=df, x='Genero', y='Edad', inner=None, color=\"lightgray\")\n",
        "sns.stripplot(data=df, x='Genero', y='Edad', jitter=True, alpha=0.3, color=\"black\")\n",
        "\n",
        "plt.title(\"Distribución de edad por actividad principal\", color='black', fontsize=16)\n",
        "plt.xlabel(\"Edad\")\n",
        "plt.ylabel(\"Actividad principal\")\n",
        "\n",
        "fig.set_facecolor(\"white\")\n",
        "plt.tight_layout()\n",
        "plt.show()\n",
        "\n"
      ],
      "metadata": {
        "id": "DKJ_QVnzFmTZ"
      },
      "id": "DKJ_QVnzFmTZ",
      "execution_count": null,
      "outputs": []
    },
    {
      "cell_type": "code",
      "source": [
        "fig = plt.figure(figsize=(10, 6))\n",
        "\n",
        "# Boxplot base (resumen estadístico)\n",
        "sns.boxplot(\n",
        "    data=df,\n",
        "    x='Edad',\n",
        "    y=\"Actividad principal\",\n",
        "    hue=\"Actividad principal\",\n",
        "    palette=\"pastel\",\n",
        "    fliersize=0,\n",
        "    legend=False\n",
        ")\n",
        "\n",
        "# Stripplot encima (datos individuales)\n",
        "sns.stripplot(\n",
        "    data=df,\n",
        "    x='Edad',\n",
        "    y=\"Actividad principal\",\n",
        "    color=\"black\",\n",
        "    size=3,\n",
        "    jitter=True,\n",
        "    alpha=0.4\n",
        ")\n",
        "\n",
        "plt.title(\"Distribución de edad por actividad principal\", fontsize=16, color=\"black\")\n",
        "plt.xlabel(\"Edad\")\n",
        "plt.ylabel(\"Actividad principal\")\n",
        "fig.set_facecolor(\"white\")\n",
        "plt.tight_layout()\n",
        "plt.show()\n"
      ],
      "metadata": {
        "id": "FIHA6G7sF_9Z"
      },
      "id": "FIHA6G7sF_9Z",
      "execution_count": null,
      "outputs": []
    },
    {
      "cell_type": "markdown",
      "source": [
        " Se puede observar que la mediana de edad para el sector de \"otras industrias\" está ligeramente por encima de los otros dos grupos, que son \"comercio\" e \"industria manufacturera\". Sin embargo, la diferencia en la mediana es de solo 2 o 3 años, lo que sugiere que la edad no es un factor determinante en la elección de la actividad laboral en el sector."
      ],
      "metadata": {
        "id": "j_3WiItRGvIp"
      },
      "id": "j_3WiItRGvIp"
    },
    {
      "cell_type": "markdown",
      "source": [
        "El gráfico de barras apiladas mejora la presentación visual de la información, permitiendo una mejor comparación entre las diferentes actividades y géneros. En este caso, podemos ver que las actividades tienen porcentajes similares en cada género, pero la cantidad de hombres es significativamente superior a la de mujeres en el sector.\n",
        "\n",
        "El análisis bivariado nos permite visualizar de manera clara la diferencia en la distribución de género en cada actividad y cómo estas se comparan entre sí. El gráfico de barras apiladas nos muestra la relación entre dos variables categóricas, género y actividad principal. La altura de cada barra representa la proporción de hombres y mujeres en cada actividad, y la longitud de la barra representa la proporción de personas que se dedican a esa actividad.\n",
        "\n",
        "En este caso, podemos ver que las actividades tienen porcentajes similares en cada género, pero la cantidad de hombres es significativamente superior a la de mujeres en el sector.\n",
        "\n",
        "Este gráfico nos permite visualizar de manera clara la diferencia en la distribución de género en cada actividad y cómo estas se comparan entre sí. Además, la leyenda nos permite identificar fácilmente qué color representa a cada género y tener una mejor comprensión del gráfico en su totalidad.\n"
      ],
      "metadata": {
        "id": "ytJTmFrlHTPl"
      },
      "id": "ytJTmFrlHTPl"
    },
    {
      "cell_type": "code",
      "source": [
        "# Preparar los datos en formato largo\n",
        "\n",
        "actividad_genero = df.groupby([\"Genero\", \"Actividad principal\"]).size().reset_index(name=\"Cantidad\")\n",
        "actividad_genero_pivot = actividad_genero.pivot(index=\"Genero\", columns=\"Actividad principal\", values=\"Cantidad\").fillna(0)\n",
        "plt.figure(figsize=(10, 6), facecolor=\"white\")\n",
        "\n",
        "actividad_genero_pivot.plot(kind=\"bar\", stacked=True)\n",
        "\n",
        "plt.title(\"Cantidad de profesionales por género y actividad (apilado)\", fontsize=16)\n",
        "plt.xlabel(\"Género\")\n",
        "plt.ylabel(\"Cantidad\")\n",
        "plt.legend(title=\"Actividad\", bbox_to_anchor=(1.05, 1), loc='upper left')\n",
        "plt.tight_layout()\n",
        "plt.show()\n"
      ],
      "metadata": {
        "id": "HrvaJVdrGwDX"
      },
      "id": "HrvaJVdrGwDX",
      "execution_count": null,
      "outputs": []
    },
    {
      "cell_type": "markdown",
      "source": [
        "**2.1.3 Hipotesis 3**\n",
        "\n",
        "*Hipotesis 3: Existe inequidad de género porque los hombres tienen un salario mayor a las mujeres*\n",
        "\n",
        "**Conclusión 3**\n",
        "\n",
        "*Hipotesis 3: Verdadero. Prácticamente el salario promedio de un hombre es 20% mayor al de una mujer promedio*\n",
        "\n",
        "Tras analizar los datos, podemos concluir que esta hipótesis es verdadera.\n",
        "\n",
        "El salario promedio de un hombre es aproximadamente un 20% mayor que el de una mujer promedio.\n",
        "\n",
        "Esta desigualdad salarial es un problema importante que debe ser abordado para lograr la igualdad de género en el ámbito laboral."
      ],
      "metadata": {
        "id": "TjpCQqbOIaNp"
      },
      "id": "TjpCQqbOIaNp"
    },
    {
      "cell_type": "code",
      "source": [
        "sns.barplot(x='Genero', y='SalarioB', data=df, estimator=np.median, errorbar=None)"
      ],
      "metadata": {
        "id": "ZRIlPEboIdtE"
      },
      "id": "ZRIlPEboIdtE",
      "execution_count": null,
      "outputs": []
    },
    {
      "cell_type": "markdown",
      "source": [
        "### Se podria trabajar por outliers extremos con el percentil 99\n"
      ],
      "metadata": {
        "id": "a_L832DBKcGP"
      },
      "id": "a_L832DBKcGP"
    },
    {
      "cell_type": "code",
      "source": [
        "# Filtrar sueldos menores al percentil 99\n",
        "limite = df['SalarioB'].quantile(0.99)\n",
        "df_filtrado = df[df['SalarioB'] < limite]\n",
        "sns.barplot(x='Genero', y='SalarioB', data=df_filtrado, estimator='mean', errorbar='sd')"
      ],
      "metadata": {
        "id": "etBiw3XtKjaF"
      },
      "id": "etBiw3XtKjaF",
      "execution_count": null,
      "outputs": []
    },
    {
      "cell_type": "code",
      "source": [
        "\n",
        "# Crear una nueva columna 'SalarioB_cat' con 5 categorías\n",
        "df['SalarioB_cat'] = pd.qcut(df['SalarioB'], q=5, labels=['Salario Muy bajo', 'Salario bajo', 'Salario medio', 'Salario Alto', 'Salario muy alto'])\n",
        "\n",
        "# Verificar la nueva columna\n",
        "print(df[['SalarioB', 'SalarioB_cat']].head(5))"
      ],
      "metadata": {
        "id": "ijmgusnRJPVm"
      },
      "id": "ijmgusnRJPVm",
      "execution_count": null,
      "outputs": []
    },
    {
      "cell_type": "code",
      "source": [
        "# Filtrar solo por las categorías Hombre y Mujer en la variable Genero\n",
        "df_filtered = df[df['Genero'].isin(['Hombre', 'Mujer'])]\n",
        "\n",
        "# Configurar el estilo de los gráficos\n",
        "sns.set(style=\"ticks\")\n",
        "\n",
        "# Crear el grid de gráficos\n",
        "g = sns.FacetGrid(df_filtered, col=\"Genero\", hue=\"Genero\", col_wrap=2, height=5)\n",
        "\n",
        "# Agregar los histogramas en cada gráfico del grid\n",
        "g.map(sns.histplot, \"SalarioB_cat\")\n",
        "\n",
        "# Configurar la visualización\n",
        "g.set(xlabel='SalarioB Categorizado', ylabel='Frecuencia')\n",
        "g.set_xticklabels(rotation=45)\n",
        "\n",
        "# Mostrar el gráfico\n",
        "g.fig.suptitle('', fontsize=16)\n",
        "plt.show()\n"
      ],
      "metadata": {
        "id": "QknVR4q1Kxiz"
      },
      "id": "QknVR4q1Kxiz",
      "execution_count": null,
      "outputs": []
    },
    {
      "cell_type": "markdown",
      "source": [
        "En el eje X se encuentra la categoría de salario, mientras que en el eje Y se encuentra la frecuencia o la cantidad de personas en cada categoría de salario, para cada género. La información se muestra mediante barras de diferentes alturas para cada categoría de salario.\n",
        "\n",
        "En el caso que mencionas, se puede observar que la distribución de categorías de salario es diferente para hombres y mujeres. En hombres, la categoría de salario más representativa es Salario Alto, mientras que en mujeres es Salario Muy Bajo. Además, se puede ver que la frecuencia de categorías de salario en mujeres va disminuyendo en cada barra"
      ],
      "metadata": {
        "id": "NKc5545-K7zI"
      },
      "id": "NKc5545-K7zI"
    },
    {
      "cell_type": "markdown",
      "source": [
        "**2.1.4 Hipotesis 4**\n",
        "\n",
        "*Hipotesis 4: Los salarios más altos corresponde a los técnicos con mayor cantidad de años de experiencia*\n",
        "\n",
        "**Conclusión 4**\n",
        "\n",
        "*Hipotesis 4: Dudoso. Los salarios más altos corresponden a los técnicos que poseen más de 10 años de experiencia. Luego hay un estancamiento en el salario.\n",
        "\n",
        "La hipótesis 4 sugiere que los técnicos con más años de experiencia son los que poseen los salarios más altos. Sin embargo, luego de un análisis detallado de los datos, se concluye que la hipótesis es dudosa. Se observó que, efectivamente, los técnicos con más de 10 años de experiencia tienen salarios más altos, pero después de eso hay un estancamiento en el salario. Es decir, una persona que tiene 20 años de experiencia no suele ganar más que una persona que tiene 10 años de experiencia. En consecuencia, se puede afirmar que la hipótesis 4 es dudosa y no se cumple en su totalidad.\n",
        "\n",
        "\n",
        "\n",
        "\n"
      ],
      "metadata": {
        "id": "JNNwGEyALDNj"
      },
      "id": "JNNwGEyALDNj"
    },
    {
      "cell_type": "code",
      "source": [
        "# --- PARTE 1: Gráfico de línea (relación experiencia-salario sin outliers) ---\n",
        "# Calcular IQR para 'SalarioB'\n",
        "Q1 = df['SalarioB'].quantile(0.25)\n",
        "Q3 = df['SalarioB'].quantile(0.75)\n",
        "IQR = Q3 - Q1\n",
        "\n",
        "# Filtrar outliers\n",
        "df_filtered = df[(df['SalarioB'] >= Q1 - 1.5 * IQR) & (df['SalarioB'] <= Q3 + 1.5 * IQR)]\n",
        "\n",
        "# Agrupar por años de experiencia y filtrar grupos con suficientes datos\n",
        "grouped_count = df_filtered.groupby('Años de experiencia').size()\n",
        "valid_experience = grouped_count[grouped_count > 100].index\n",
        "grouped_salary = df_filtered.groupby('Años de experiencia')['SalarioB'].mean()[valid_experience]\n",
        "\n",
        "# Crear figura con 2 subplots\n",
        "plt.figure(figsize=(18, 6))\n",
        "\n",
        "# Subplot 1: Gráfico de línea\n",
        "plt.subplot(1, 2, 1)\n",
        "sns.lineplot(x=grouped_salary.index, y=grouped_salary.values, marker='o', color='b')\n",
        "plt.axvline(x=10, color='r', linestyle='--', alpha=0.5, label='Estancamiento (10 años)')\n",
        "plt.xlabel('Años de experiencia', fontsize=12)\n",
        "plt.ylabel('Salario promedio (sin outliers)', fontsize=12)\n",
        "plt.title('Relación experiencia-salario (n > 100 trabajadores)', fontsize=14)\n",
        "plt.grid(True, linestyle='--', alpha=0.7)\n",
        "plt.legend()\n",
        "\n",
        "# --- PARTE 2: Gráfico de barras (años en puesto actual vs salario) ---\n",
        "# Preprocesamiento\n",
        "bins = [0, 5, 10, 15, 20, 25, 30, 35]\n",
        "labels = ['0-5', '6-10', '11-15', '16-20', '21-25', '26-30', '31-35']\n",
        "df['Experiencia_binned'] = pd.cut(df['Años en el puesto actual'], bins=bins, labels=labels)\n",
        "\n",
        "# Agrupar y filtrar\n",
        "agrupo_count = df.groupby('Experiencia_binned').size()\n",
        "agrupo_salary = df.groupby('Experiencia_binned')['SalarioB'].mean()\n",
        "\n",
        "# Subplot 2: Gráfico de barras\n",
        "plt.subplot(1, 2, 2)\n",
        "sns.barplot(x=agrupo_salary.index, y=agrupo_salary.values, palette='viridis')\n",
        "plt.xlabel('Años en el puesto actual (rangos)', fontsize=12)\n",
        "plt.ylabel('Salario promedio', fontsize=12)\n",
        "plt.title('Salario por años en el puesto actual (todos los datos)', fontsize=14)\n",
        "plt.xticks(rotation=45)\n",
        "\n",
        "plt.tight_layout()  # Ajustar espaciado entre gráficos\n",
        "plt.show()"
      ],
      "metadata": {
        "id": "FA1fEjz3K8eU"
      },
      "id": "FA1fEjz3K8eU",
      "execution_count": null,
      "outputs": []
    },
    {
      "cell_type": "markdown",
      "source": [
        "**2.1.5 Hipotesis 5**\n",
        "\n",
        "*Hipotesis 5: Las personas que mantienen sus puestos de trabajo poseen mayor salarios que los profesionales que recién ingresan a las empresas. Se va a comparar a las personas que tienen menos de 5 años en un mismo puesto*\n",
        "\n",
        "**Conclusión 5**\n",
        "\n",
        "*Hipotesis 5: Falso.*\n",
        "\n",
        "En esta hipótesis se comparó a los profesionales que llevan menos de 5 años en un mismo puesto de trabajo con aquellos que mantienen su posición por más tiempo.\n",
        "\n",
        " Los resultados no muestran una correlación significativa entre el tiempo de permanencia en un puesto y el salario.\n",
        "\n",
        " Por lo tanto, no podemos afirmar que las personas que mantienen sus puestos de trabajo tengan mayores salarios que los profesionales recién ingresados a las empresas."
      ],
      "metadata": {
        "id": "L8zb6gt6M5t_"
      },
      "id": "L8zb6gt6M5t_"
    },
    {
      "cell_type": "markdown",
      "source": [
        "## Conclusiones de las hipótesis\n",
        "\n",
        "En conclusión, nuestro estudio ha permitido confirmar la hipótesis 1, la cual afirma que la cantidad de hombres en el sector IT supera significativamente a la cantidad de mujeres. Esta brecha de género, aunque ha disminuido en los últimos años, sigue siendo un problema importante en la industria.\n",
        "\n",
        "Por otro lado, la hipótesis 2 resultó ser falsa. En realidad, la mayor cantidad de profesionales del sector se encuentran entre los 25 y 35 años de edad, y no entre los 30 y 40 como se había supuesto originalmente.\n",
        "\n",
        "Con respecto a la hipótesis 3, se confirmó la existencia de una inequidad salarial de género, ya que los hombres tienen un salario promedio un 20% mayor al de las mujeres. Esta brecha salarial es un problema grave que necesita ser abordado para lograr una mayor igualdad en el sector IT.\n",
        "\n",
        "En cuanto a la hipótesis 4, los datos no permiten confirmarla de manera clara. Aunque es cierto que los salarios más altos corresponden a los técnicos con más de 10 años de experiencia, no se puede afirmar que los salarios se estancan luego de este punto. Se necesita mayor investigación para determinar si esto es cierto o no.\n",
        "\n",
        "Finalmente, la hipótesis 5 resultó ser falsa. Los datos no muestran una correlación significativa entre el salario y el tiempo de permanencia en un puesto de trabajo. De hecho, hay casos en los que profesionales que han mantenido su puesto de trabajo por menos de 5 años tienen salarios más altos que aquellos con más tiempo en la misma empresa"
      ],
      "metadata": {
        "id": "Cw2Vsq6Lnjg1"
      },
      "id": "Cw2Vsq6Lnjg1"
    },
    {
      "cell_type": "markdown",
      "source": [
        "# Seleccion de atributos"
      ],
      "metadata": {
        "id": "U0NrD4_QPn4Z"
      },
      "id": "U0NrD4_QPn4Z"
    },
    {
      "cell_type": "code",
      "source": [
        "import sklearn.linear_model as skl_lm\n",
        "from sklearn.metrics import mean_squared_error, r2_score\n",
        "from scipy.stats import pearsonr"
      ],
      "metadata": {
        "id": "lugSkj2wP8mz"
      },
      "id": "lugSkj2wP8mz",
      "execution_count": null,
      "outputs": []
    },
    {
      "cell_type": "markdown",
      "source": [
        "---"
      ],
      "metadata": {
        "id": "Okfja-ZuP77K"
      },
      "id": "Okfja-ZuP77K"
    },
    {
      "cell_type": "markdown",
      "source": [
        "### Outliers Remover"
      ],
      "metadata": {
        "id": "qh93mt8EQj9X"
      },
      "id": "qh93mt8EQj9X"
    },
    {
      "cell_type": "code",
      "source": [
        "# Calcular IQR para 'SalarioB'\n",
        "Q1 = df['SalarioB'].quantile(0.25)\n",
        "Q3 = df['SalarioB'].quantile(0.75)\n",
        "IQR = Q3 - Q1\n",
        "\n",
        "# Filtrar outliers\n",
        "df_filtered = df[(df['SalarioB'] >= Q1 - 1.5 * IQR) & (df['SalarioB'] <= Q3 + 1.5 * IQR)]\n"
      ],
      "metadata": {
        "id": "SO9QxgDcQVeY"
      },
      "id": "SO9QxgDcQVeY",
      "execution_count": null,
      "outputs": []
    },
    {
      "cell_type": "code",
      "source": [
        "# Seleccionar solo los primeros 13 años de experiencia\n",
        "df_first_13_years = df_filtered[df_filtered['Años de experiencia'] <= 13]\n",
        "\n",
        "# Calcular la correlación de Pearson\n",
        "corr, _ = pearsonr(df_first_13_years['Años de experiencia'], df_first_13_years['SalarioB'])\n",
        "\n",
        "# Imprimir la correlación\n",
        "print(\"Correlación de Pearson para los primeros 13 años de experiencia: {:.2f}\".format(corr))\n",
        "\n",
        "# Gráfico de dispersión para visualizar la relación entre las variables\n",
        "sns.scatterplot(x='Años de experiencia', y='SalarioB', data=df_first_13_years)\n",
        "plt.xlabel('Años de experiencia')\n",
        "plt.ylabel('SalarioB')\n",
        "plt.title('Relación entre años de experiencia y salario (primeros 13 años)')\n",
        "plt.show()\n"
      ],
      "metadata": {
        "id": "sKAWpkx2PsMc"
      },
      "id": "sKAWpkx2PsMc",
      "execution_count": null,
      "outputs": []
    },
    {
      "cell_type": "code",
      "source": [
        "fig=plt.figure()\n",
        "sns.histplot(data=df_first_13_years, x='SalarioB')\n",
        "fig.set_facecolor(\"white\")"
      ],
      "metadata": {
        "id": "dd2TUSEVQigb"
      },
      "id": "dd2TUSEVQigb",
      "execution_count": null,
      "outputs": []
    },
    {
      "cell_type": "code",
      "source": [
        "df_indexed = df_first_13_years.reset_index()\n",
        "\n",
        "print(df['Años en la empresa actual'].sort_values(ascending=False)[:5])"
      ],
      "metadata": {
        "id": "O5qMTYqTQ-lw"
      },
      "id": "O5qMTYqTQ-lw",
      "execution_count": null,
      "outputs": []
    },
    {
      "cell_type": "markdown",
      "source": [
        "---"
      ],
      "metadata": {
        "id": "-AEMl1o0nymj"
      },
      "id": "-AEMl1o0nymj"
    },
    {
      "cell_type": "code",
      "source": [
        "df_indexed['Años en la empresa actual'].value_counts().sort_index()\n"
      ],
      "metadata": {
        "id": "eWKH9lhInqmF"
      },
      "id": "eWKH9lhInqmF",
      "execution_count": null,
      "outputs": []
    },
    {
      "cell_type": "code",
      "source": [
        "df_indexed = df_indexed[df_indexed['Años en la empresa actual'] != 2016]\n",
        "df_indexed = df_indexed[df_indexed['Años en la empresa actual'] != 88]\n",
        "df_indexed = df_indexed[df_indexed['Años en el puesto actual'] != 85000]\n"
      ],
      "metadata": {
        "id": "Cxi40Fj2pMkI"
      },
      "id": "Cxi40Fj2pMkI",
      "execution_count": null,
      "outputs": []
    },
    {
      "cell_type": "code",
      "source": [
        "# Separar columnas numéricas y categóricas\n",
        "numeric_cols = df_indexed.select_dtypes(include='number').columns.tolist()\n",
        "categorical_cols = df_indexed.select_dtypes(include='object').columns.tolist()\n",
        "\n",
        "# Limitar cantidad de categorías a mostrar para las columnas categóricas (para evitar plots ilegibles)\n",
        "max_categories = 10\n",
        "categorical_cols = [col for col in categorical_cols if df_indexed[col].nunique() <= max_categories]\n",
        "\n",
        "# Total de subplots\n",
        "all_cols = numeric_cols + categorical_cols\n",
        "n_cols = 2\n",
        "n_rows = int((len(all_cols) + 1) / n_cols)\n",
        "\n",
        "# Crear figura\n",
        "fig, axes = plt.subplots(n_rows, n_cols, figsize=(16, 5 * n_rows))\n",
        "axes = axes.flatten()\n",
        "\n",
        "# Recorrer todas las columnas a graficar\n",
        "for idx, col in enumerate(all_cols):\n",
        "    ax = axes[idx]\n",
        "\n",
        "    if col in numeric_cols:\n",
        "        # Histograma + KDE\n",
        "        sns.histplot(df_indexed[col].dropna(), kde=True, ax=ax, color='skyblue')\n",
        "        ax.set_title(f'Distribución numérica: {col}', fontsize=12)\n",
        "\n",
        "        # Boxplot encima (eje gemelo)\n",
        "        ax2 = ax.twinx()\n",
        "        sns.boxplot(x=df_indexed[col], ax=ax2, color='salmon', width=0.25)\n",
        "        ax2.set_yticks([])\n",
        "\n",
        "    elif col in categorical_cols:\n",
        "        # Frecuencia de categorías\n",
        "        counts = df_indexed[col].value_counts().head(max_categories)\n",
        "        sns.barplot(x=counts.values, y=counts.index, ax=ax, palette='viridis')\n",
        "        ax.set_title(f'Distribución categórica: {col}', fontsize=12)\n",
        "        ax.set_xlabel('Frecuencia')\n",
        "        ax.set_ylabel(col)\n",
        "\n",
        "# Eliminar ejes vacíos si sobran\n",
        "for j in range(idx + 1, len(axes)):\n",
        "    fig.delaxes(axes[j])\n",
        "\n",
        "plt.tight_layout()\n",
        "plt.show()\n"
      ],
      "metadata": {
        "id": "WN9H1r4KpSPb"
      },
      "id": "WN9H1r4KpSPb",
      "execution_count": null,
      "outputs": []
    },
    {
      "cell_type": "markdown",
      "source": [
        "## Matrix de Correlacion de variables numericas"
      ],
      "metadata": {
        "id": "z8xM0cGIDUNs"
      },
      "id": "z8xM0cGIDUNs"
    },
    {
      "cell_type": "code",
      "source": [
        "# 1. Seleccionar columnas numéricas (incluyendo SalarioB)\n",
        "numeric_cols_full = df_indexed.select_dtypes(include='number')\n",
        "\n",
        "# 2. Calcular matriz de correlación entre todas las variables numéricas\n",
        "correlation_matrix = numeric_cols_full.corr()\n",
        "\n",
        "# 3. Crear heatmap\n",
        "plt.figure(figsize=(16, 9))\n",
        "sns.heatmap(correlation_matrix, annot=True, cmap='coolwarm', fmt=\".2f\", linewidths=0.5)\n",
        "plt.title(\"Matriz de Correlación entre Variables Numéricas\", fontsize=12)\n",
        "plt.xticks(rotation=45)\n",
        "plt.yticks(rotation=0)\n",
        "plt.tight_layout()\n",
        "plt.show()\n"
      ],
      "metadata": {
        "id": "bYbHOvxxDY6O"
      },
      "id": "bYbHOvxxDY6O",
      "execution_count": null,
      "outputs": []
    },
    {
      "cell_type": "code",
      "source": [
        "from scipy.stats import chi2_contingency\n",
        "\n",
        "# Función para calcular Cramér’s V\n",
        "def cramers_v(x, y):\n",
        "    confusion_matrix = pd.crosstab(x, y)\n",
        "    if confusion_matrix.shape[0] < 2 or confusion_matrix.shape[1] < 2:\n",
        "        return np.nan\n",
        "    chi2 = chi2_contingency(confusion_matrix)[0]\n",
        "    n = confusion_matrix.sum().sum()\n",
        "    phi2 = chi2 / n\n",
        "    r, k = confusion_matrix.shape\n",
        "    phi2corr = max(0, phi2 - ((k - 1)*(r - 1)) / (n - 1))\n",
        "    rcorr = r - ((r - 1)**2) / (n - 1)\n",
        "    kcorr = k - ((k - 1)**2) / (n - 1)\n",
        "    return np.sqrt(phi2corr / min((kcorr - 1), (rcorr - 1)))\n",
        "\n",
        "# Limitar a categóricas con pocos niveles para que sea visualmente legible\n",
        "max_categories = 10\n",
        "categorical_cols = [col for col in df_indexed.select_dtypes(include='object').columns if df_indexed[col].nunique() <= max_categories]\n",
        "\n",
        "# Crear matriz vacía\n",
        "cramers_results = pd.DataFrame(index=categorical_cols, columns=categorical_cols, dtype=float)\n",
        "\n",
        "# Calcular Cramér’s V entre todas las combinaciones\n",
        "for col1 in categorical_cols:\n",
        "    for col2 in categorical_cols:\n",
        "        if col1 == col2:\n",
        "            cramers_results.loc[col1, col2] = 1.0\n",
        "        else:\n",
        "            val = cramers_v(df_indexed[col1], df_indexed[col2])\n",
        "            cramers_results.loc[col1, col2] = val\n",
        "\n",
        "# Heatmap\n",
        "plt.figure(figsize=(16, 9))\n",
        "sns.heatmap(cramers_results.astype(float), annot=True, cmap='Purples', fmt='.2f', linewidths=0.5)\n",
        "plt.title(\"Matriz de Cramér's V entre Variables Categóricas\")\n",
        "plt.xticks(rotation=45)\n",
        "plt.yticks(rotation=0)\n",
        "plt.tight_layout()\n",
        "plt.show()\n"
      ],
      "metadata": {
        "id": "tigLVU1xEINs"
      },
      "id": "tigLVU1xEINs",
      "execution_count": null,
      "outputs": []
    },
    {
      "cell_type": "code",
      "source": [
        "from sklearn.feature_selection import f_classif, f_regression\n",
        "from scipy.stats import f_oneway\n",
        "\n",
        "\n",
        "# Separar numéricas y categóricas\n",
        "numeric_cols = df_indexed.select_dtypes(include='number').columns.tolist()\n",
        "categorical_cols = df_indexed.select_dtypes(include='object').columns.tolist()\n",
        "\n",
        "# Remover 'SalarioB' de las numéricas para análisis\n",
        "numeric_cols = [col for col in numeric_cols if col != 'SalarioB']\n",
        "\n",
        "# ---------- NUMÉRICAS: Correlación con SalarioB ----------\n",
        "numeric_corr = df_indexed[numeric_cols + ['SalarioB']].corr()['SalarioB'].abs().sort_values(ascending=False)\n",
        "\n",
        "# ---------- CATEGÓRICAS: Varianza explicada con ANOVA ----------\n",
        "def calculate_eta_squared(df_indexed, cat_col, target_col='SalarioB'):\n",
        "    groups = [df_indexed[df_indexed[cat_col] == level][target_col].dropna() for level in df_indexed[cat_col].dropna().unique()]\n",
        "    try:\n",
        "        anova = f_oneway(*groups)\n",
        "        eta_squared = (anova.statistic * (len(groups) - 1)) / (anova.statistic * (len(groups) - 1) + (df_indexed.shape[0] - len(groups)))\n",
        "        return eta_squared\n",
        "    except:\n",
        "        return np.nan  # Por si alguna categoría tiene pocos datos\n",
        "\n",
        "categorical_eta = {\n",
        "    col: calculate_eta_squared(df_indexed, col, 'SalarioB')\n",
        "    for col in categorical_cols\n",
        "}\n",
        "\n",
        "categorical_eta = pd.Series(categorical_eta).dropna().sort_values(ascending=False)\n",
        "\n",
        "# ---------- MOSTRAR RESULTADOS ----------\n",
        "top_n_numeric = numeric_corr.head(7)\n",
        "top_n_categorical = categorical_eta.head(7)\n",
        "\n",
        "# Mostrar tablas\n",
        "print(\"\\n📊 Variables numéricas más correlacionadas con SalarioB:\\n\")\n",
        "print(top_n_numeric)\n",
        "\n",
        "print(\"\\n🏷️ Variables categóricas con mayor varianza explicada sobre SalarioB:\\n\")\n",
        "print(top_n_categorical)\n",
        "\n",
        "# ---------- PLOTEAR RESULTADOS ----------\n",
        "fig, axes = plt.subplots(1, 2, figsize=(16, 6))\n",
        "\n",
        "sns.barplot(x=top_n_numeric.values, y=top_n_numeric.index, ax=axes[0], palette='Blues_r')\n",
        "axes[0].set_title(\"Correlación absoluta con SalarioB (Numéricas)\")\n",
        "axes[0].set_xlabel(\"Correlación\")\n",
        "\n",
        "sns.barplot(x=top_n_categorical.values, y=top_n_categorical.index, ax=axes[1], palette='Greens_r')\n",
        "axes[1].set_title(\"Varianza explicada (η²) sobre SalarioB (Categóricas)\")\n",
        "axes[1].set_xlabel(\"η² (0-1)\")\n",
        "\n",
        "plt.tight_layout()\n",
        "plt.show()\n"
      ],
      "metadata": {
        "id": "xGfye2RZ5WCs"
      },
      "id": "xGfye2RZ5WCs",
      "execution_count": null,
      "outputs": []
    },
    {
      "cell_type": "code",
      "source": [
        "# Supongamos que df_indexed ya está cargado\n",
        "# Separar columnas numéricas y categóricas\n",
        "numeric_cols = df_indexed.select_dtypes(include='number').columns.tolist()\n",
        "categorical_cols = df_indexed.select_dtypes(include='object').columns.tolist()\n",
        "\n",
        "# Limitar a categorías con pocas clases (opcional)\n",
        "max_categories = 10\n",
        "categorical_cols = [col for col in categorical_cols if df_indexed[col].nunique() <= max_categories]\n",
        "\n",
        "# ------------------ NUMÉRICAS: matriz de correlación ------------------\n",
        "\n",
        "# Calcular matriz de correlación solo numérica\n",
        "numeric_corr = df_indexed[numeric_cols].corr()\n",
        "\n",
        "# Filtrar sólo las correlaciones con 'SalarioB'\n",
        "if 'SalarioB' not in numeric_corr.columns:\n",
        "    raise ValueError(\"No se encuentra 'SalarioB' en las columnas numéricas.\")\n",
        "\n",
        "numeric_corr_target = numeric_corr[['SalarioB']].drop('SalarioB')  # eliminar autocorrelación\n",
        "\n",
        "# ------------------ CATEGÓRICAS: eta squared ------------------\n",
        "\n",
        "def calculate_eta_squared(df, cat_col, target_col='SalarioB'):\n",
        "    groups = [df[df[cat_col] == val][target_col].dropna() for val in df[cat_col].dropna().unique()]\n",
        "    try:\n",
        "        anova = f_oneway(*groups)\n",
        "        eta_sq = (anova.statistic * (len(groups) - 1)) / (\n",
        "            anova.statistic * (len(groups) - 1) + (df.shape[0] - len(groups))\n",
        "        )\n",
        "        return eta_sq\n",
        "    except:\n",
        "        return np.nan\n",
        "\n",
        "# Calcular η² para cada variable categórica respecto a SalarioB\n",
        "eta_results = {\n",
        "    col: calculate_eta_squared(df_indexed, col, 'SalarioB')\n",
        "    for col in categorical_cols\n",
        "}\n",
        "\n",
        "eta_series = pd.Series(eta_results).dropna().sort_values(ascending=False)\n",
        "\n",
        "# ------------------ HEATMAP NUMÉRICAS ------------------\n",
        "plt.figure(figsize=(16, len(numeric_corr_target) * 0.5 + 1))\n",
        "sns.heatmap(numeric_corr_target, annot=True, cmap=\"Blues\", fmt=\".2f\", linewidths=0.5)\n",
        "plt.title(\"Correlación Numérica con SalarioB\")\n",
        "plt.show()\n",
        "\n",
        "# ------------------ HEATMAP CATEGÓRICAS ------------------\n",
        "plt.figure(figsize=(16, len(eta_series) * 0.5 + 1))\n",
        "sns.heatmap(eta_series.to_frame(name='Eta² vs SalarioB'), annot=True, cmap=\"Greens\", fmt=\".2f\", linewidths=0.5)\n",
        "plt.title(\"Varianza Explicada (η²) de Categóricas sobre SalarioB\")\n",
        "plt.show()\n"
      ],
      "metadata": {
        "id": "W2fVWoMD7wzp"
      },
      "id": "W2fVWoMD7wzp",
      "execution_count": null,
      "outputs": []
    },
    {
      "cell_type": "code",
      "source": [
        "from scipy.stats import chi2_contingency, f_oneway\n",
        "import pandas as pd\n",
        "import numpy as np\n",
        "\n",
        "# NUMERICAS\n",
        "def get_low_correlation_numeric_features(df, target_col='SalarioB', threshold=0.05):\n",
        "    numeric_cols = df.select_dtypes(include='number').columns.tolist()\n",
        "    numeric_cols = [col for col in numeric_cols if col != target_col]\n",
        "\n",
        "    correlations = df[numeric_cols + [target_col]].corr()[target_col].abs()\n",
        "    low_corr = correlations[correlations < threshold].index.tolist()\n",
        "    return low_corr\n",
        "\n",
        "# CATEGORICAS\n",
        "\n",
        "# Cramér’s V helper\n",
        "def cramers_v(x, y):\n",
        "    confusion_matrix = pd.crosstab(x, y)\n",
        "    if confusion_matrix.shape[0] < 2 or confusion_matrix.shape[1] < 2:\n",
        "        return np.nan\n",
        "    chi2 = chi2_contingency(confusion_matrix)[0]\n",
        "    n = confusion_matrix.sum().sum()\n",
        "    phi2 = chi2 / n\n",
        "    r, k = confusion_matrix.shape\n",
        "    phi2corr = max(0, phi2 - ((k - 1)*(r - 1)) / (n - 1))\n",
        "    rcorr = r - ((r - 1)**2) / (n - 1)\n",
        "    kcorr = k - ((k - 1)**2) / (n - 1)\n",
        "    return np.sqrt(phi2corr / min((kcorr - 1), (rcorr - 1)))\n",
        "\n",
        "# η² helper\n",
        "def calculate_eta_squared(df, cat_col, target_col='SalarioB'):\n",
        "    groups = [df[df[cat_col] == val][target_col].dropna() for val in df[cat_col].dropna().unique()]\n",
        "    try:\n",
        "        anova = f_oneway(*groups)\n",
        "        eta_sq = (anova.statistic * (len(groups) - 1)) / (\n",
        "            anova.statistic * (len(groups) - 1) + (df.shape[0] - len(groups))\n",
        "        )\n",
        "        return eta_sq\n",
        "    except:\n",
        "        return np.nan\n",
        "\n",
        "# Función principal\n",
        "def get_low_cramersv_categorical_features(df, min_cramers=0.1, max_eta2=0.01, target_col='SalarioB'):\n",
        "    cat_cols = df.select_dtypes(include='object').columns.tolist()\n",
        "\n",
        "    # Filtrar columnas con pocas categorías\n",
        "    cat_cols = [col for col in cat_cols if df[col].nunique() <= 10]\n",
        "\n",
        "    # Cramér's V max with others\n",
        "    low_cramers = []\n",
        "    for col in cat_cols:\n",
        "        others = [c for c in cat_cols if c != col]\n",
        "        max_v = max([cramers_v(df[col], df[c2]) for c2 in others], default=0)\n",
        "        if max_v < min_cramers:\n",
        "            low_cramers.append(col)\n",
        "\n",
        "    # Eta² (respecto al target)\n",
        "    low_eta2 = {\n",
        "        col: calculate_eta_squared(df, col, target_col)\n",
        "        for col in cat_cols\n",
        "    }\n",
        "    low_eta2 = [col for col, eta in low_eta2.items() if eta is not None and eta < max_eta2]\n",
        "\n",
        "    # Intersección\n",
        "    to_drop = list(set(low_cramers) & set(low_eta2))\n",
        "    return to_drop\n"
      ],
      "metadata": {
        "id": "fags-LqqC4nb"
      },
      "id": "fags-LqqC4nb",
      "execution_count": null,
      "outputs": []
    },
    {
      "cell_type": "markdown",
      "source": [
        "## Tener en cuenta la cantidad de datos nulls"
      ],
      "metadata": {
        "id": "-fs410TfGLAM"
      },
      "id": "-fs410TfGLAM"
    },
    {
      "cell_type": "code",
      "source": [
        "def eliminar_columnas_faltantes(df, umbral=0.5):\n",
        "    # Calcular el porcentaje de datos faltantes por columna\n",
        "    porcentaje_faltantes = df.isnull().mean()\n",
        "\n",
        "\n",
        "    # Obtener las columnas que superan el umbral de datos faltantes\n",
        "    columnas_eliminar = porcentaje_faltantes[porcentaje_faltantes > umbral].index\n",
        "\n",
        "    print(columnas_eliminar)\n",
        "\n",
        "    # Eliminar las columnas del DataFrame\n",
        "    df_filtrado = df.drop(columnas_eliminar, axis=1)\n",
        "\n",
        "    return df_filtrado"
      ],
      "metadata": {
        "id": "QEss4wg5GKHe"
      },
      "id": "QEss4wg5GKHe",
      "execution_count": null,
      "outputs": []
    },
    {
      "cell_type": "code",
      "source": [
        "df_filtrado = eliminar_columnas_faltantes(df_indexed)"
      ],
      "metadata": {
        "id": "vngQAXfHLWPU"
      },
      "id": "vngQAXfHLWPU",
      "execution_count": null,
      "outputs": []
    },
    {
      "cell_type": "code",
      "source": [
        "# Eliminicacion por incompletitud de data\n",
        "df_filtrado"
      ],
      "metadata": {
        "id": "FoMaz9YZLAuY"
      },
      "id": "FoMaz9YZLAuY",
      "execution_count": null,
      "outputs": []
    },
    {
      "cell_type": "code",
      "source": [
        "numeric_to_drop = get_low_correlation_numeric_features(df_filtrado, target_col='SalarioB', threshold=0.05)\n",
        "categorical_to_drop = get_low_cramersv_categorical_features(df_filtrado)\n",
        "\n",
        "print(\"🔻 Columnas numéricas a eliminar:\", numeric_to_drop)\n",
        "print(\"🔻 Columnas categóricas a eliminar:\", categorical_to_drop)\n",
        "\n",
        "# Supongamos que ya tenés estas listas de columnas a eliminar\n",
        "columns_to_drop = numeric_to_drop + categorical_to_drop\n",
        "\n",
        "# Eliminar columnas del DataFrame original\n",
        "df_filtrado = df_filtrado.drop(columns=columns_to_drop)\n"
      ],
      "metadata": {
        "id": "an0fEiPyFzmY"
      },
      "id": "an0fEiPyFzmY",
      "execution_count": null,
      "outputs": []
    },
    {
      "cell_type": "code",
      "source": [
        "df_filtrado.info()"
      ],
      "metadata": {
        "id": "kg3bCimNb4dG"
      },
      "id": "kg3bCimNb4dG",
      "execution_count": null,
      "outputs": []
    },
    {
      "cell_type": "code",
      "source": [
        "# Seleccionar columnas numéricas (incluyendo SalarioB)\n",
        "numeric_df = df_filtrado.select_dtypes(include='number')\n",
        "\n",
        "# Calcular matriz de correlación\n",
        "correlation_matrix = numeric_df.corr()\n",
        "\n",
        "# Buscar 7\n",
        "top_n_variables = correlation_matrix['SalarioB'].abs().nlargest(8).index\n",
        "\n",
        "# Filtrar matriz de correlación sólo para esas variables\n",
        "top_correlation_matrix = correlation_matrix.loc[top_n_variables, top_n_variables]\n",
        "\n",
        "# Generar el heatmap\n",
        "plt.figure(figsize=(16, 9))\n",
        "sns.heatmap(top_correlation_matrix, annot=True, cmap='coolwarm', fmt=\".2f\", linewidths=0.5)\n",
        "plt.title('Matriz de Correlación de las 4 Variables Numéricas Principales')\n",
        "plt.xticks(rotation=45)\n",
        "plt.show()\n"
      ],
      "metadata": {
        "id": "ZwzgMtj6b-VU"
      },
      "id": "ZwzgMtj6b-VU",
      "execution_count": null,
      "outputs": []
    },
    {
      "cell_type": "markdown",
      "source": [],
      "metadata": {
        "id": "Lv_SBKFdewv-"
      },
      "id": "Lv_SBKFdewv-"
    },
    {
      "cell_type": "code",
      "source": [
        "def drop_low_and_collinear_features(df, target_col='SalarioB', corr_threshold=0.25, colineal_threshold=0.7):\n",
        "\n",
        "    df_num = df.select_dtypes(include='number').copy()\n",
        "\n",
        "    if target_col not in df_num.columns:\n",
        "        raise ValueError(f\"La columna objetivo '{target_col}' no está en el DataFrame numérico.\")\n",
        "\n",
        "    # Paso 1: Correlación con target\n",
        "    corr_target = df_num.corr()[target_col].drop(target_col)\n",
        "    low_corr_cols = corr_target[abs(corr_target) < corr_threshold].index.tolist()\n",
        "\n",
        "    # Paso 2: Multicolinealidad entre features\n",
        "    corr_matrix = df_num.drop(columns=target_col).corr().abs()\n",
        "    upper_triangle = corr_matrix.where(np.triu(np.ones(corr_matrix.shape), k=1).astype(bool))\n",
        "\n",
        "    colinear_cols = [\n",
        "        column for column in upper_triangle.columns\n",
        "        if any(upper_triangle[column] > colineal_threshold)\n",
        "    ]\n",
        "\n",
        "    # Paso 3: Unión de columnas a eliminar\n",
        "    cols_to_drop = list(set(low_corr_cols + colinear_cols))\n",
        "\n",
        "    # Eliminamos del DataFrame original (no solo las numéricas)\n",
        "    df_filtrado = df.drop(columns=cols_to_drop, errors='ignore')\n",
        "\n",
        "    return df_filtrado, cols_to_drop"
      ],
      "metadata": {
        "id": "KEpqrHyUesqa"
      },
      "id": "KEpqrHyUesqa",
      "execution_count": null,
      "outputs": []
    },
    {
      "cell_type": "code",
      "source": [
        "df_filtrado_umbral, _ =drop_low_and_collinear_features(df_filtrado)"
      ],
      "metadata": {
        "id": "tmbdeFRee5Q-"
      },
      "id": "tmbdeFRee5Q-",
      "execution_count": null,
      "outputs": []
    },
    {
      "cell_type": "code",
      "source": [
        "# Seleccionar columnas numéricas (incluyendo SalarioB)\n",
        "numeric_df = df_filtrado_umbral.select_dtypes(include='number')\n",
        "\n",
        "# Calcular matriz de correlación\n",
        "correlation_matrix = numeric_df.corr()\n",
        "\n",
        "# Buscar 7\n",
        "top_n_variables = correlation_matrix['SalarioB'].abs().nlargest(8).index\n",
        "\n",
        "# Filtrar matriz de correlación sólo para esas variables\n",
        "top_correlation_matrix = correlation_matrix.loc[top_n_variables, top_n_variables]\n",
        "\n",
        "# Generar el heatmap\n",
        "plt.figure(figsize=(16, 9))\n",
        "sns.heatmap(top_correlation_matrix, annot=True, cmap='coolwarm', fmt=\".2f\", linewidths=0.5)\n",
        "plt.title('Matriz de Correlación de las 4 Variables Numéricas Principales')\n",
        "plt.xticks(rotation=45)\n",
        "plt.show()"
      ],
      "metadata": {
        "id": "MuVhjzWDfEww"
      },
      "id": "MuVhjzWDfEww",
      "execution_count": null,
      "outputs": []
    },
    {
      "cell_type": "code",
      "source": [
        "df_filtrado_umbral.drop(columns=[\"Genero\"],inplace=True)"
      ],
      "metadata": {
        "id": "KtsBXxyJfSze"
      },
      "id": "KtsBXxyJfSze",
      "execution_count": null,
      "outputs": []
    },
    {
      "cell_type": "code",
      "source": [
        "df_filtrado_umbral.info()"
      ],
      "metadata": {
        "id": "djC64eakfbgF"
      },
      "id": "djC64eakfbgF",
      "execution_count": null,
      "outputs": []
    },
    {
      "cell_type": "markdown",
      "source": [
        "## Etapa de train"
      ],
      "metadata": {
        "id": "PzGn3SrYgDuh"
      },
      "id": "PzGn3SrYgDuh"
    },
    {
      "cell_type": "code",
      "source": [
        "from sklearn.preprocessing import LabelEncoder, StandardScaler\n",
        "from sklearn.model_selection import train_test_split, GridSearchCV, cross_val_score\n",
        "from sklearn.linear_model import LogisticRegression\n",
        "from sklearn.metrics import accuracy_score, precision_score, recall_score, f1_score"
      ],
      "metadata": {
        "id": "r27IXScaikxQ"
      },
      "id": "r27IXScaikxQ",
      "execution_count": null,
      "outputs": []
    },
    {
      "cell_type": "code",
      "source": [
        "df_filtrado_umbral[top_n_variables]"
      ],
      "metadata": {
        "id": "djGvASwphaYy"
      },
      "id": "djGvASwphaYy",
      "execution_count": null,
      "outputs": []
    },
    {
      "cell_type": "code",
      "source": [
        "target = \"SalarioB\""
      ],
      "metadata": {
        "id": "5kKn7j2dvdwE"
      },
      "id": "5kKn7j2dvdwE",
      "execution_count": null,
      "outputs": []
    },
    {
      "cell_type": "code",
      "source": [
        "X = df_filtrado_umbral[top_n_variables].drop(columns=[target])"
      ],
      "metadata": {
        "id": "f7fTxTeKhwaf"
      },
      "id": "f7fTxTeKhwaf",
      "execution_count": null,
      "outputs": []
    },
    {
      "cell_type": "code",
      "source": [
        "X.info()"
      ],
      "metadata": {
        "id": "g6UfAEQMwqMU"
      },
      "id": "g6UfAEQMwqMU",
      "execution_count": null,
      "outputs": []
    },
    {
      "cell_type": "code",
      "source": [
        "# Aplicar LabelEncoder a las variables categóricas en 'X'\n",
        "for col in X.columns:\n",
        "    if X[col].dtype == 'object':\n",
        "        le = LabelEncoder()\n",
        "        X[col] = le.fit_transform(X[col])"
      ],
      "metadata": {
        "id": "_7A5JBhHiivB"
      },
      "id": "_7A5JBhHiivB",
      "execution_count": null,
      "outputs": []
    },
    {
      "cell_type": "markdown",
      "source": [
        "## Caso donde quiero una regresion lineal simple"
      ],
      "metadata": {
        "id": "0xvI8wA1vL-U"
      },
      "id": "0xvI8wA1vL-U"
    },
    {
      "cell_type": "code",
      "source": [
        "y = df_filtrado_umbral['SalarioB']"
      ],
      "metadata": {
        "id": "PFrCt10QvP5t"
      },
      "id": "PFrCt10QvP5t",
      "execution_count": null,
      "outputs": []
    },
    {
      "cell_type": "code",
      "source": [
        "from sklearn.model_selection import train_test_split\n",
        "\n",
        "# Primera división: 70% train, 30% temp (val + test)\n",
        "X_train, X_temp, y_train, y_temp = train_test_split(\n",
        "    X, y, test_size=0.3, random_state=42\n",
        ")\n",
        "\n",
        "# Segunda división: 15% val y 15% test (50% de X_temp)\n",
        "X_val, X_test, y_val, y_test = train_test_split(\n",
        "    X_temp, y_temp, test_size=0.5, random_state=42\n",
        ")\n",
        "\n",
        "print(f\"Train: {X_train.shape[0]} muestras\")\n",
        "print(f\"Val: {X_val.shape[0]} muestras\")\n",
        "print(f\"Test: {X_test.shape[0]} muestras\")"
      ],
      "metadata": {
        "id": "-4y8es0ixe3G"
      },
      "id": "-4y8es0ixe3G",
      "execution_count": null,
      "outputs": []
    },
    {
      "cell_type": "code",
      "source": [
        "scaler = StandardScaler()\n",
        "X_train_scaled = scaler.fit_transform(X_train)\n",
        "X_val_scaled = scaler.transform(X_val)\n",
        "X_test_scaled = scaler.transform(X_test)"
      ],
      "metadata": {
        "id": "qhFW-NpDxixP"
      },
      "id": "qhFW-NpDxixP",
      "execution_count": null,
      "outputs": []
    },
    {
      "cell_type": "code",
      "source": [
        "param_grid = {\n",
        "    'fit_intercept': [True, False],\n",
        "    'n_jobs': [-1, None, 1, 2]  # Opciones de paralelización\n",
        "}"
      ],
      "metadata": {
        "id": "4rZC82VPxnS1"
      },
      "id": "4rZC82VPxnS1",
      "execution_count": null,
      "outputs": []
    },
    {
      "cell_type": "code",
      "source": [
        "from sklearn.linear_model import LinearRegression\n",
        "from sklearn.metrics import mean_absolute_error, mean_squared_error, r2_score"
      ],
      "metadata": {
        "id": "fMCYePwWy65a"
      },
      "id": "fMCYePwWy65a",
      "execution_count": null,
      "outputs": []
    },
    {
      "cell_type": "code",
      "source": [
        "\n",
        "grid_search = GridSearchCV(\n",
        "    LinearRegression(),\n",
        "    param_grid,\n",
        "    cv=5,\n",
        "    scoring='neg_mean_squared_error',  # Métrica para regresión\n",
        "    verbose=1  # Muestra progreso\n",
        ")\n",
        "\n",
        "grid_search.fit(X_train_scaled, y_train)\n",
        "\n",
        "# Mejor modelo\n",
        "best_reg = grid_search.best_estimator_\n",
        "\n",
        "# Evaluación en validación\n",
        "y_val_pred = best_reg.predict(X_val_scaled)\n",
        "print(\"\\nMétricas en Validación:\")\n",
        "print(f\"MAE: {mean_absolute_error(y_val, y_val_pred):.4f}\")\n",
        "print(f\"MSE: {mean_squared_error(y_val, y_val_pred):.4f}\")\n",
        "print(f\"RMSE: {np.sqrt(mean_squared_error(y_val, y_val_pred)):.4f}\")\n",
        "print(f\"R²: {r2_score(y_val, y_val_pred):.4f}\")\n",
        "\n",
        "# Evaluación en test\n",
        "y_test_pred = best_reg.predict(X_test_scaled)\n",
        "print(\"\\nMétricas en Test:\")\n",
        "print(f\"MAE: {mean_absolute_error(y_test, y_test_pred):.4f}\")\n",
        "print(f\"MSE: {mean_squared_error(y_test, y_test_pred):.4f}\")\n",
        "print(f\"RMSE: {np.sqrt(mean_squared_error(y_test, y_test_pred)):.4f}\")\n",
        "print(f\"R²: {r2_score(y_test, y_test_pred):.4f}\")\n",
        "\n",
        "# Mostrar mejores parámetros\n",
        "print(\"\\nMejores parámetros encontrados:\")\n",
        "print(grid_search.best_params_)\n",
        "\n",
        "# pcional: Mostrar coeficientes del modelo\n",
        "print(\"\\nCoeficientes del modelo:\")\n",
        "for feature, coef in zip(X.columns, best_reg.coef_):\n",
        "    print(f\"{feature}: {coef:.4f}\")\n",
        "print(f\"Intercepto: {best_reg.intercept_:.4f}\")"
      ],
      "metadata": {
        "id": "XiH0lGDdyQsq"
      },
      "id": "XiH0lGDdyQsq",
      "execution_count": null,
      "outputs": []
    },
    {
      "cell_type": "code",
      "source": [
        "plt.figure(figsize=(15, 6))  # Figura más ancha para dos subplots\n",
        "\n",
        "# Subplot 1: Valores reales vs predichos\n",
        "plt.subplot(1, 2, 1)  # 1 fila, 2 columnas, posición 1\n",
        "plt.scatter(y_test, y_test_pred, alpha=0.5, color='blue')\n",
        "plt.plot([min(y_test), max(y_test)], [min(y_test), max(y_test)], 'r--')\n",
        "plt.xlabel('Valores Reales')\n",
        "plt.ylabel('Predicciones')\n",
        "plt.title('Valores Reales vs Predicciones\\n(Regresión Lineal)')\n",
        "plt.grid(True)\n",
        "\n",
        "# Subplot 2: Distribución de residuos\n",
        "plt.subplot(1, 2, 2)  # 1 fila, 2 columnas, posición 2\n",
        "residuos = y_test - y_test_pred\n",
        "sns.histplot(residuos, kde=True, bins=30, color='green')\n",
        "plt.axvline(x=0, color='r', linestyle='--')\n",
        "plt.xlabel('Residuos')\n",
        "plt.title('Distribución de Residuos\\n(Error = Real - Predicho)')\n",
        "plt.grid(True)\n",
        "\n",
        "# Ajustar espaciado y mostrar\n",
        "plt.tight_layout()  # Evita superposición\n",
        "plt.show()"
      ],
      "metadata": {
        "id": "UnDq8O1Q0sst"
      },
      "id": "UnDq8O1Q0sst",
      "execution_count": null,
      "outputs": []
    },
    {
      "cell_type": "code",
      "source": [
        "from sklearn.linear_model import LinearRegression, Ridge, Lasso\n",
        "from sklearn.ensemble import RandomForestRegressor, GradientBoostingRegressor\n",
        "from sklearn.svm import SVR\n",
        "from sklearn.model_selection import cross_val_score"
      ],
      "metadata": {
        "id": "cmeGFKe_02V5"
      },
      "id": "cmeGFKe_02V5",
      "execution_count": null,
      "outputs": []
    },
    {
      "cell_type": "code",
      "source": [
        "modelos = {\n",
        "    'Ridge (L2)': Ridge(alpha=1.0),\n",
        "    'Lasso (L1)': Lasso(alpha=0.1),\n",
        "    'Random Forest': RandomForestRegressor(n_estimators=100),\n",
        "    'Gradient Boosting': GradientBoostingRegressor(n_estimators=100),\n",
        "    'SVR': SVR(kernel='rbf', C=100)\n",
        "}\n",
        "\n",
        "# Evaluación rápida con cross-validation\n",
        "print(\"\\nComparación de Modelos (R² Score):\")\n",
        "for nombre, modelo in modelos.items():\n",
        "    scores = cross_val_score(modelo, X_train_scaled, y_train, cv=5, scoring='r2')\n",
        "    print(f\"{nombre}: {scores.mean():.4f} (+/- {scores.std():.4f})\")\n",
        "\n",
        "# =============================================\n",
        "# 3. Ejemplo con Regresión Lineal Múltiple\n",
        "# =============================================\n",
        "\n",
        "# Gráfico de coeficientes (importancia de variables)\n",
        "coef_df = pd.DataFrame({\n",
        "    'Variable': X.columns,\n",
        "    'Coeficiente': best_reg.coef_\n",
        "}).sort_values('Coeficiente', ascending=False)\n",
        "\n",
        "plt.figure(figsize=(10, 6))\n",
        "sns.barplot(x='Coeficiente', y='Variable', data=coef_df)\n",
        "plt.title('Importancia de Variables (Regresión Lineal Múltiple)')\n",
        "plt.show()\n",
        "\n"
      ],
      "metadata": {
        "id": "hKmWT-v30VbD"
      },
      "id": "hKmWT-v30VbD",
      "execution_count": null,
      "outputs": []
    },
    {
      "cell_type": "code",
      "source": [
        "# 4. Sugerencia de Modelo No Lineal (Ejemplo con RandomForest)\n",
        "\n",
        "# Entrenar y evaluar RandomForest\n",
        "rf = RandomForestRegressor(n_estimators=100, random_state=42)\n",
        "rf.fit(X_train_scaled, y_train)\n",
        "y_test_rf = rf.predict(X_test_scaled)\n",
        "\n",
        "# Gráfico comparativo\n",
        "plt.figure(figsize=(10, 6))\n",
        "plt.scatter(y_test, y_test_pred, alpha=0.5, label='Lineal')\n",
        "plt.scatter(y_test, y_test_rf, alpha=0.5, label='Random Forest')\n",
        "plt.plot([min(y_test), max(y_test)], [min(y_test), max(y_test)], 'r--')\n",
        "plt.xlabel('Valores Reales')\n",
        "plt.ylabel('Predicciones')\n",
        "plt.title('Comparación: Lineal vs Random Forest')\n",
        "plt.legend()\n",
        "plt.show()"
      ],
      "metadata": {
        "id": "TrvZazLq1b6K"
      },
      "id": "TrvZazLq1b6K",
      "execution_count": null,
      "outputs": []
    },
    {
      "cell_type": "markdown",
      "source": [
        "## Si quisiera que sea un multiclase"
      ],
      "metadata": {
        "id": "mx_nykpVvDPK"
      },
      "id": "mx_nykpVvDPK"
    },
    {
      "cell_type": "code",
      "source": [
        "y = pd.cut(df_filtrado_umbral['SalarioB'], bins=[0, 60000, 120000, np.inf], labels=['Bajo', 'Medio', 'Alto'])\n",
        "y.info()"
      ],
      "metadata": {
        "id": "wsrQ4ZboirxA"
      },
      "id": "wsrQ4ZboirxA",
      "execution_count": null,
      "outputs": []
    },
    {
      "cell_type": "code",
      "source": [
        "from sklearn.model_selection import train_test_split\n",
        "\n",
        "# Primera división: 70% train, 30% temp (val + test)\n",
        "X_train, X_temp, y_train, y_temp = train_test_split(\n",
        "    X, y, test_size=0.3, random_state=42\n",
        ")\n",
        "\n",
        "# Segunda división: 15% val y 15% test (50% de X_temp)\n",
        "X_val, X_test, y_val, y_test = train_test_split(\n",
        "    X_temp, y_temp, test_size=0.5, random_state=42\n",
        ")\n",
        "\n",
        "print(f\"Train: {X_train.shape[0]} muestras\")\n",
        "print(f\"Val: {X_val.shape[0]} muestras\")\n",
        "print(f\"Test: {X_test.shape[0]} muestras\")"
      ],
      "metadata": {
        "id": "qVfvNd--i6tA"
      },
      "id": "qVfvNd--i6tA",
      "execution_count": null,
      "outputs": []
    },
    {
      "cell_type": "code",
      "source": [
        "scaler = StandardScaler()\n",
        "X_train_scaled = scaler.fit_transform(X_train)\n",
        "X_val_scaled = scaler.transform(X_val)\n",
        "X_test_scaled = scaler.transform(X_test)"
      ],
      "metadata": {
        "id": "GKW6fsYli-If"
      },
      "id": "GKW6fsYli-If",
      "execution_count": null,
      "outputs": []
    },
    {
      "cell_type": "code",
      "source": [
        "# Definir los hiperparámetros a probar en el GridSearch\n",
        "param_grid = {'C': [0.1, 0.5, 1, 5, 10], 'penalty': ['l2']}"
      ],
      "metadata": {
        "id": "wbVrKtnzthkj"
      },
      "id": "wbVrKtnzthkj",
      "execution_count": null,
      "outputs": []
    },
    {
      "cell_type": "code",
      "source": [
        "# GridSearchCV con los datos de entrenamiento\n",
        "grid_search = GridSearchCV(\n",
        "    LogisticRegression(random_state=42),\n",
        "    param_grid,\n",
        "    cv=5  # Usa validación cruzada interna en train\n",
        ")\n",
        "grid_search.fit(X_train_scaled, y_train)\n",
        "\n",
        "# Mejor modelo encontrado\n",
        "best_clf = grid_search.best_estimator_\n",
        "\n",
        "# Evaluar en el conjunto de validación (opcional)\n",
        "y_val_pred = best_clf.predict(X_val_scaled)\n",
        "val_accuracy = accuracy_score(y_val, y_val_pred)\n",
        "print(f\"Exactitud en validación: {val_accuracy:.4f}\")\n",
        "\n",
        "# Evaluación final en test (¡solo una vez!)\n",
        "y_test_pred = best_clf.predict(X_test_scaled)\n",
        "test_accuracy = accuracy_score(y_test, y_test_pred)\n",
        "print(f\"Exactitud en test: {test_accuracy:.4f}\")\n",
        "\n",
        "# Métricas adicionales (opcional)\n",
        "print(\"\\nMétricas en test:\")\n",
        "print(\"Precisión:\", precision_score(y_test, y_test_pred, average='weighted'))\n",
        "print(\"Recall:\", recall_score(y_test, y_test_pred, average='weighted'))\n",
        "print(\"F1:\", f1_score(y_test, y_test_pred, average='weighted'))"
      ],
      "metadata": {
        "id": "gUQtBNUKxpwX"
      },
      "id": "gUQtBNUKxpwX",
      "execution_count": null,
      "outputs": []
    },
    {
      "cell_type": "code",
      "source": [
        "# GridSearchCV con los datos de entrenamiento\n",
        "grid_search = GridSearchCV(\n",
        "    LogisticRegression(random_state=42),\n",
        "    param_grid,\n",
        "    cv=5  # Usa validación cruzada interna en train\n",
        ")\n",
        "grid_search.fit(X_train_scaled, y_train)\n",
        "\n",
        "# Mejor modelo encontrado\n",
        "best_clf = grid_search.best_estimator_\n",
        "\n",
        "# Evaluar en el conjunto de validación (opcional)\n",
        "y_val_pred = best_clf.predict(X_val_scaled)\n",
        "val_accuracy = accuracy_score(y_val, y_val_pred)\n",
        "print(f\"Exactitud en validación: {val_accuracy:.4f}\")\n",
        "\n",
        "# Evaluación final en test (¡solo una vez!)\n",
        "y_test_pred = best_clf.predict(X_test_scaled)\n",
        "test_accuracy = accuracy_score(y_test, y_test_pred)\n",
        "print(f\"Exactitud en test: {test_accuracy:.4f}\")\n",
        "\n",
        "# Métricas adicionales (opcional)\n",
        "print(\"\\nMétricas en test:\")\n",
        "print(\"Precisión:\", precision_score(y_test, y_test_pred, average='weighted'))\n",
        "print(\"Recall:\", recall_score(y_test, y_test_pred, average='weighted'))\n",
        "print(\"F1:\", f1_score(y_test, y_test_pred, average='weighted'))"
      ],
      "metadata": {
        "id": "jbiKDVC2gCvC"
      },
      "id": "jbiKDVC2gCvC",
      "execution_count": null,
      "outputs": []
    },
    {
      "cell_type": "code",
      "source": [
        "\n",
        "from sklearn.metrics import confusion_matrix, ConfusionMatrixDisplay\n",
        "\n",
        "# Calcular la matriz de confusión\n",
        "cm = confusion_matrix(y_test, y_test_pred)\n",
        "\n",
        "# Graficar con seaborn (más elegante)\n",
        "plt.figure(figsize=(8, 6))\n",
        "sns.heatmap(cm, annot=True, fmt='d', cmap='Blues', cbar=False,\n",
        "            xticklabels=clf.classes_, yticklabels=clf.classes_)\n",
        "plt.xlabel('Predicciones')\n",
        "plt.ylabel('Valores Reales')\n",
        "plt.title('Matriz de Confusión')\n",
        "plt.show()"
      ],
      "metadata": {
        "id": "AzzOFUuhjVZ4"
      },
      "id": "AzzOFUuhjVZ4",
      "execution_count": null,
      "outputs": []
    },
    {
      "cell_type": "code",
      "source": [
        "from sklearn.metrics import roc_curve, auc\n",
        "from sklearn.preprocessing import label_binarize\n",
        "import numpy as np\n",
        "\n",
        "# Binarizar las etiquetas para multiclase\n",
        "y_test_bin = label_binarize(y_test, classes=np.unique(y_test))\n",
        "n_classes = y_test_bin.shape[1]\n",
        "\n",
        "# Calcular puntuaciones para cada clase\n",
        "y_score = best_clf.predict_proba(X_test_scaled)\n",
        "\n",
        "# Calcular curva ROC y AUC para cada clase\n",
        "plt.figure(figsize=(8, 6))\n",
        "for i in range(n_classes):\n",
        "    fpr, tpr, _ = roc_curve(y_test_bin[:, i], y_score[:, i])\n",
        "    roc_auc = auc(fpr, tpr)\n",
        "    plt.plot(fpr, tpr, label=f'Clase {i} (AUC = {roc_auc:.2f})')\n",
        "\n",
        "plt.plot([0, 1], [0, 1], 'k--')\n",
        "plt.xlabel('Tasa de Falsos Positivos (FPR)')\n",
        "plt.ylabel('Tasa de Verdaderos Positivos (TPR)')\n",
        "plt.title('Curva ROC (Multiclase)')\n",
        "plt.legend()\n",
        "plt.show()"
      ],
      "metadata": {
        "id": "YlqLG_OIup-m"
      },
      "id": "YlqLG_OIup-m",
      "execution_count": null,
      "outputs": []
    }
  ],
  "metadata": {
    "language_info": {
      "name": "python"
    },
    "colab": {
      "provenance": [],
      "include_colab_link": true
    },
    "kernelspec": {
      "name": "python3",
      "display_name": "Python 3"
    }
  },
  "nbformat": 4,
  "nbformat_minor": 5
}