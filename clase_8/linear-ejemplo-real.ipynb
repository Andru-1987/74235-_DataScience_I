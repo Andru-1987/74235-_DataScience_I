{
 "cells": [
  {
   "cell_type": "code",
   "execution_count": null,
   "id": "c6057009",
   "metadata": {},
   "outputs": [],
   "source": [
    "raw_table_csv = \"https://raw.githubusercontent.com/eea-uba/EEA-2022/main/Fuentes/Encuesta%20de%20remuneracion%20salarial%20-%202020.1.csv\""
   ]
  }
 ],
 "metadata": {
  "language_info": {
   "name": "python"
  }
 },
 "nbformat": 4,
 "nbformat_minor": 5
}
